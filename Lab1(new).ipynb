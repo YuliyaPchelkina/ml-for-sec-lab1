{
 "cells": [
  {
   "cell_type": "markdown",
   "id": "9a93bd71",
   "metadata": {},
   "source": [
    "### ML for Security. Лабораторная №1\n",
    "\n",
    "Пчелкина Ю.Ж. (группа 6231-010402D)"
   ]
  },
  {
   "cell_type": "code",
   "execution_count": 1,
   "id": "e40d548b",
   "metadata": {},
   "outputs": [],
   "source": [
    "import pandas as pd\n",
    "import numpy as np\n",
    "import seaborn as sns\n",
    "import joblib\n",
    "import matplotlib.pyplot as plt"
   ]
  },
  {
   "cell_type": "code",
   "execution_count": 2,
   "id": "0d5eae49",
   "metadata": {},
   "outputs": [],
   "source": [
    "from sklearn.linear_model import LogisticRegression\n",
    "from sklearn.neighbors import KNeighborsClassifier\n",
    "from sklearn.tree import DecisionTreeClassifier\n",
    "from sklearn.ensemble import RandomForestClassifier\n",
    "\n",
    "from sklearn.linear_model import LinearRegression\n",
    "from sklearn.linear_model import Lasso\n",
    "from sklearn.linear_model import Ridge\n",
    "from sklearn.linear_model import ElasticNet\n"
   ]
  },
  {
   "cell_type": "code",
   "execution_count": 3,
   "id": "d17a8844",
   "metadata": {},
   "outputs": [],
   "source": [
    "from sklearn.metrics import confusion_matrix, classification_report, f1_score, accuracy_score, roc_curve, plot_confusion_matrix"
   ]
  },
  {
   "cell_type": "code",
   "execution_count": 4,
   "id": "4aac1e15",
   "metadata": {},
   "outputs": [],
   "source": [
    "from sklearn.pipeline import Pipeline\n",
    "from sklearn.preprocessing import StandardScaler"
   ]
  },
  {
   "cell_type": "code",
   "execution_count": 5,
   "id": "504f5e06",
   "metadata": {},
   "outputs": [],
   "source": [
    "from sklearn.feature_selection import SelectKBest, chi2\n",
    "from sklearn.ensemble import ExtraTreesClassifier"
   ]
  },
  {
   "cell_type": "code",
   "execution_count": 6,
   "id": "10231a15",
   "metadata": {},
   "outputs": [],
   "source": [
    "from sklearn.model_selection import GridSearchCV"
   ]
  },
  {
   "cell_type": "code",
   "execution_count": 7,
   "id": "f17ce9b0",
   "metadata": {},
   "outputs": [
    {
     "data": {
      "text/plain": [
       "(2400, 20)"
      ]
     },
     "execution_count": 7,
     "metadata": {},
     "output_type": "execute_result"
    }
   ],
   "source": [
    "df = pd.read_csv('features_train.csv')\n",
    "df.shape"
   ]
  },
  {
   "cell_type": "code",
   "execution_count": 8,
   "id": "6ab3defe",
   "metadata": {},
   "outputs": [
    {
     "data": {
      "text/plain": [
       "(2400, 1)"
      ]
     },
     "execution_count": 8,
     "metadata": {},
     "output_type": "execute_result"
    }
   ],
   "source": [
    "cl = pd.read_csv('classes_train.csv')\n",
    "cl.shape"
   ]
  },
  {
   "cell_type": "code",
   "execution_count": 9,
   "id": "d6cecb96",
   "metadata": {},
   "outputs": [
    {
     "data": {
      "text/html": [
       "<div>\n",
       "<style scoped>\n",
       "    .dataframe tbody tr th:only-of-type {\n",
       "        vertical-align: middle;\n",
       "    }\n",
       "\n",
       "    .dataframe tbody tr th {\n",
       "        vertical-align: top;\n",
       "    }\n",
       "\n",
       "    .dataframe thead th {\n",
       "        text-align: right;\n",
       "    }\n",
       "</style>\n",
       "<table border=\"1\" class=\"dataframe\">\n",
       "  <thead>\n",
       "    <tr style=\"text-align: right;\">\n",
       "      <th></th>\n",
       "      <th>statuses_count</th>\n",
       "      <th>followers_count</th>\n",
       "      <th>friends_count</th>\n",
       "      <th>favourites_count</th>\n",
       "      <th>listed_count</th>\n",
       "      <th>is_default_profile</th>\n",
       "      <th>is_profile_use_background_image</th>\n",
       "      <th>is_verified</th>\n",
       "      <th>user_age</th>\n",
       "      <th>tweets_freq</th>\n",
       "      <th>...</th>\n",
       "      <th>friends_growth_rate</th>\n",
       "      <th>favourites_growth_rate</th>\n",
       "      <th>listed_growth_rate</th>\n",
       "      <th>followers_friends_ratio</th>\n",
       "      <th>screen_name_length</th>\n",
       "      <th>num_digits_in_screen_name</th>\n",
       "      <th>length_of_name</th>\n",
       "      <th>num_digits_in_name</th>\n",
       "      <th>description_length</th>\n",
       "      <th>is_bot</th>\n",
       "    </tr>\n",
       "  </thead>\n",
       "  <tbody>\n",
       "    <tr>\n",
       "      <th>0</th>\n",
       "      <td>5124</td>\n",
       "      <td>6641</td>\n",
       "      <td>3074</td>\n",
       "      <td>13768</td>\n",
       "      <td>126</td>\n",
       "      <td>0</td>\n",
       "      <td>0</td>\n",
       "      <td>1</td>\n",
       "      <td>2711</td>\n",
       "      <td>1.890077</td>\n",
       "      <td>...</td>\n",
       "      <td>1.133899</td>\n",
       "      <td>5.078569</td>\n",
       "      <td>0.046477</td>\n",
       "      <td>2.160377</td>\n",
       "      <td>12</td>\n",
       "      <td>0</td>\n",
       "      <td>14</td>\n",
       "      <td>0</td>\n",
       "      <td>73</td>\n",
       "      <td>0</td>\n",
       "    </tr>\n",
       "    <tr>\n",
       "      <th>1</th>\n",
       "      <td>10672</td>\n",
       "      <td>8465</td>\n",
       "      <td>1575</td>\n",
       "      <td>4561</td>\n",
       "      <td>191</td>\n",
       "      <td>0</td>\n",
       "      <td>1</td>\n",
       "      <td>1</td>\n",
       "      <td>4424</td>\n",
       "      <td>2.412297</td>\n",
       "      <td>...</td>\n",
       "      <td>0.356013</td>\n",
       "      <td>1.030967</td>\n",
       "      <td>0.043174</td>\n",
       "      <td>5.374603</td>\n",
       "      <td>11</td>\n",
       "      <td>0</td>\n",
       "      <td>23</td>\n",
       "      <td>0</td>\n",
       "      <td>142</td>\n",
       "      <td>0</td>\n",
       "    </tr>\n",
       "    <tr>\n",
       "      <th>2</th>\n",
       "      <td>704</td>\n",
       "      <td>3108</td>\n",
       "      <td>454</td>\n",
       "      <td>2400</td>\n",
       "      <td>77</td>\n",
       "      <td>0</td>\n",
       "      <td>0</td>\n",
       "      <td>0</td>\n",
       "      <td>1358</td>\n",
       "      <td>0.518409</td>\n",
       "      <td>...</td>\n",
       "      <td>0.334315</td>\n",
       "      <td>1.767305</td>\n",
       "      <td>0.056701</td>\n",
       "      <td>6.845815</td>\n",
       "      <td>12</td>\n",
       "      <td>0</td>\n",
       "      <td>18</td>\n",
       "      <td>0</td>\n",
       "      <td>90</td>\n",
       "      <td>0</td>\n",
       "    </tr>\n",
       "    <tr>\n",
       "      <th>3</th>\n",
       "      <td>6091</td>\n",
       "      <td>304528</td>\n",
       "      <td>526</td>\n",
       "      <td>599</td>\n",
       "      <td>1515</td>\n",
       "      <td>0</td>\n",
       "      <td>1</td>\n",
       "      <td>1</td>\n",
       "      <td>4214</td>\n",
       "      <td>1.445420</td>\n",
       "      <td>...</td>\n",
       "      <td>0.124822</td>\n",
       "      <td>0.142145</td>\n",
       "      <td>0.359516</td>\n",
       "      <td>578.950570</td>\n",
       "      <td>10</td>\n",
       "      <td>0</td>\n",
       "      <td>11</td>\n",
       "      <td>0</td>\n",
       "      <td>51</td>\n",
       "      <td>0</td>\n",
       "    </tr>\n",
       "    <tr>\n",
       "      <th>4</th>\n",
       "      <td>12967</td>\n",
       "      <td>13693</td>\n",
       "      <td>204</td>\n",
       "      <td>1177</td>\n",
       "      <td>452</td>\n",
       "      <td>0</td>\n",
       "      <td>1</td>\n",
       "      <td>1</td>\n",
       "      <td>3200</td>\n",
       "      <td>4.052187</td>\n",
       "      <td>...</td>\n",
       "      <td>0.063750</td>\n",
       "      <td>0.367812</td>\n",
       "      <td>0.141250</td>\n",
       "      <td>67.122549</td>\n",
       "      <td>13</td>\n",
       "      <td>0</td>\n",
       "      <td>14</td>\n",
       "      <td>0</td>\n",
       "      <td>106</td>\n",
       "      <td>0</td>\n",
       "    </tr>\n",
       "  </tbody>\n",
       "</table>\n",
       "<p>5 rows × 21 columns</p>\n",
       "</div>"
      ],
      "text/plain": [
       "   statuses_count  followers_count  friends_count  favourites_count  \\\n",
       "0            5124             6641           3074             13768   \n",
       "1           10672             8465           1575              4561   \n",
       "2             704             3108            454              2400   \n",
       "3            6091           304528            526               599   \n",
       "4           12967            13693            204              1177   \n",
       "\n",
       "   listed_count  is_default_profile  is_profile_use_background_image  \\\n",
       "0           126                   0                                0   \n",
       "1           191                   0                                1   \n",
       "2            77                   0                                0   \n",
       "3          1515                   0                                1   \n",
       "4           452                   0                                1   \n",
       "\n",
       "   is_verified  user_age  tweets_freq  ...  friends_growth_rate  \\\n",
       "0            1      2711     1.890077  ...             1.133899   \n",
       "1            1      4424     2.412297  ...             0.356013   \n",
       "2            0      1358     0.518409  ...             0.334315   \n",
       "3            1      4214     1.445420  ...             0.124822   \n",
       "4            1      3200     4.052187  ...             0.063750   \n",
       "\n",
       "   favourites_growth_rate  listed_growth_rate  followers_friends_ratio  \\\n",
       "0                5.078569            0.046477                 2.160377   \n",
       "1                1.030967            0.043174                 5.374603   \n",
       "2                1.767305            0.056701                 6.845815   \n",
       "3                0.142145            0.359516               578.950570   \n",
       "4                0.367812            0.141250                67.122549   \n",
       "\n",
       "   screen_name_length  num_digits_in_screen_name  length_of_name  \\\n",
       "0                  12                          0              14   \n",
       "1                  11                          0              23   \n",
       "2                  12                          0              18   \n",
       "3                  10                          0              11   \n",
       "4                  13                          0              14   \n",
       "\n",
       "   num_digits_in_name  description_length  is_bot  \n",
       "0                   0                  73       0  \n",
       "1                   0                 142       0  \n",
       "2                   0                  90       0  \n",
       "3                   0                  51       0  \n",
       "4                   0                 106       0  \n",
       "\n",
       "[5 rows x 21 columns]"
      ]
     },
     "execution_count": 9,
     "metadata": {},
     "output_type": "execute_result"
    }
   ],
   "source": [
    "# последним столбцом добавляем метки классов, удаляем бинарные признаки\n",
    "df1 = df.copy()\n",
    "df1['is_bot'] = pd.Series(cl['is_bot'], index = df1.index)\n",
    "\n",
    "df1.head()"
   ]
  },
  {
   "cell_type": "code",
   "execution_count": 10,
   "id": "cad4b09d",
   "metadata": {},
   "outputs": [
    {
     "data": {
      "text/plain": [
       "statuses_count                     2400\n",
       "followers_count                    2400\n",
       "friends_count                      2400\n",
       "favourites_count                   2400\n",
       "listed_count                       2400\n",
       "is_default_profile                 2400\n",
       "is_profile_use_background_image    2400\n",
       "is_verified                        2400\n",
       "user_age                           2400\n",
       "tweets_freq                        2400\n",
       "followers_growth_rate              2400\n",
       "friends_growth_rate                2400\n",
       "favourites_growth_rate             2400\n",
       "listed_growth_rate                 2400\n",
       "followers_friends_ratio            2400\n",
       "screen_name_length                 2400\n",
       "num_digits_in_screen_name          2400\n",
       "length_of_name                     2400\n",
       "num_digits_in_name                 2400\n",
       "description_length                 2400\n",
       "is_bot                             2400\n",
       "dtype: int64"
      ]
     },
     "execution_count": 10,
     "metadata": {},
     "output_type": "execute_result"
    }
   ],
   "source": [
    "# проверяем пропущенные значения\n",
    "df1.count()"
   ]
  },
  {
   "cell_type": "markdown",
   "id": "fc0922b8",
   "metadata": {},
   "source": [
    "Визуализация кореллированности признаков."
   ]
  },
  {
   "cell_type": "code",
   "execution_count": 11,
   "id": "a812e358",
   "metadata": {},
   "outputs": [
    {
     "data": {
      "text/plain": [
       "<AxesSubplot: >"
      ]
     },
     "execution_count": 11,
     "metadata": {},
     "output_type": "execute_result"
    },
    {
     "data": {
      "image/png": "[encoded data removed]",
      "text/plain": [
       "<Figure size 720x720 with 2 Axes>"
      ]
     },
     "metadata": {
      "needs_background": "light"
     },
     "output_type": "display_data"
    }
   ],
   "source": [
    "fig, ax = plt.subplots(figsize=(10,10))\n",
    "sns.heatmap(df1.corr(), cmap = \"mako\")"
   ]
  },
  {
   "cell_type": "code",
   "execution_count": 12,
   "id": "12fcd020",
   "metadata": {},
   "outputs": [],
   "source": [
    "# Разделим набор данных на независимые и зависимые переменные. Сохраняем как массив\n",
    "X = df1.drop('is_bot', axis = 1)\n",
    "Y = df1.is_bot"
   ]
  },
  {
   "cell_type": "code",
   "execution_count": 13,
   "id": "d685e21a",
   "metadata": {},
   "outputs": [],
   "source": [
    "# поделили на обучающую и тестовую выборки 1:3\n",
    "from sklearn.model_selection import train_test_split\n",
    "\n",
    "X_train, X_test, Y_train, Y_test = train_test_split(X, Y, test_size = 0.25, random_state = 21)"
   ]
  },
  {
   "cell_type": "code",
   "execution_count": 14,
   "id": "76341848",
   "metadata": {},
   "outputs": [
    {
     "data": {
      "text/plain": [
       "((1800, 20), (600, 20))"
      ]
     },
     "execution_count": 14,
     "metadata": {},
     "output_type": "execute_result"
    }
   ],
   "source": [
    "X_train.shape, X_test.shape"
   ]
  },
  {
   "cell_type": "code",
   "execution_count": 15,
   "id": "1385896b",
   "metadata": {},
   "outputs": [
    {
     "data": {
      "text/plain": [
       "(1800, 600)"
      ]
     },
     "execution_count": 15,
     "metadata": {},
     "output_type": "execute_result"
    }
   ],
   "source": [
    "len(Y_train), len(Y_test)"
   ]
  },
  {
   "cell_type": "markdown",
   "id": "c6089a5d",
   "metadata": {},
   "source": [
    "#### 1.1  Обучить модель без каких-либо дополнительных условий, которая должна наилучшим образом отработать на тестовой выборке преподавателя с точки зрения F-меры"
   ]
  },
  {
   "cell_type": "markdown",
   "id": "e6668943",
   "metadata": {},
   "source": [
    "F-мера (average = \n",
    "- binary - результаты только для класса, указанного параметром pos_label\n",
    "- micro - глобально, подсчитывая общее количество истинных срабатываний, ложноотрицательных и ложноположительных результатов\n",
    "- macro - для каждой метки, находит их невзвешенное среднее значение\n",
    "- weighted - для каждой метки, находит их взвешенное среднее значение  "
   ]
  },
  {
   "cell_type": "code",
   "execution_count": 16,
   "id": "e82fe969",
   "metadata": {},
   "outputs": [],
   "source": [
    "# для сравнения значений F-меры\n",
    "F_measure = {'LogisticRegression':0, \n",
    "             'KNeighborsClassifier':0, \n",
    "             'DecisionTreeClassifier':0,\n",
    "             'RandomForestClassifier':0 }"
   ]
  },
  {
   "cell_type": "markdown",
   "id": "ea857f75",
   "metadata": {},
   "source": [
    "Логистическая регрессия"
   ]
  },
  {
   "cell_type": "code",
   "execution_count": 17,
   "id": "a3eb1c89",
   "metadata": {},
   "outputs": [],
   "source": [
    "# Стандартизируем данные\n",
    "\n",
    "Log = LogisticRegression()\n",
    "scaler = StandardScaler()\n",
    "X_train_M = scaler.fit_transform(X_train)\n",
    "X_test_M = scaler.transform(X_test)"
   ]
  },
  {
   "cell_type": "code",
   "execution_count": 18,
   "id": "dc42c29e",
   "metadata": {},
   "outputs": [],
   "source": [
    "# обучение\n",
    "\n",
    "model_Log = LogisticRegression()\n",
    "    \n",
    "model_Log.fit(X_train_M, Y_train)\n",
    "Y_Log = model_Log.predict(X_test_M)\n",
    "\n",
    "F_measure['LogisticRegression'] = f1_score(Y_test, Y_Log, average = \"weighted\")"
   ]
  },
  {
   "cell_type": "markdown",
   "id": "a4378040",
   "metadata": {},
   "source": [
    "K-соседей"
   ]
  },
  {
   "cell_type": "code",
   "execution_count": 19,
   "id": "8e36fe62",
   "metadata": {},
   "outputs": [],
   "source": [
    "# Стандартизируем данные\n",
    "\n",
    "from sklearn.pipeline import Pipeline\n",
    "from sklearn.preprocessing import StandardScaler\n",
    "\n",
    "KNN = KNeighborsClassifier()\n",
    "scaler = StandardScaler()\n",
    "\n",
    "steps_KNN = [('normalizer', scaler), ('KNN', KNN)]\n",
    "pipe_KNN = Pipeline(steps_KNN)"
   ]
  },
  {
   "cell_type": "code",
   "execution_count": 20,
   "id": "458944dd",
   "metadata": {},
   "outputs": [],
   "source": [
    "# обучение\n",
    "\n",
    "model_KNN = KNeighborsClassifier()\n",
    "model_KNN.fit(X_train, Y_train)\n",
    "Y_KNN = model_KNN.predict(X_test)\n",
    "\n",
    "F_measure['KNeighborsClassifier'] = f1_score(Y_test, Y_KNN, average = \"weighted\")"
   ]
  },
  {
   "cell_type": "markdown",
   "id": "f6fc6aa4",
   "metadata": {},
   "source": [
    "DecisionTreeClassifier"
   ]
  },
  {
   "cell_type": "code",
   "execution_count": 21,
   "id": "6a6d42fc",
   "metadata": {},
   "outputs": [],
   "source": [
    "# Стандартизируем данные\n",
    "\n",
    "DTC = DecisionTreeClassifier()\n",
    "scaler = StandardScaler()\n",
    "\n",
    "steps_DTC = [('normalizer', scaler), ('DTC', DTC)]\n",
    "pipe_DTC = Pipeline(steps_DTC)"
   ]
  },
  {
   "cell_type": "code",
   "execution_count": 22,
   "id": "5edee49d",
   "metadata": {},
   "outputs": [],
   "source": [
    "# обучение\n",
    "\n",
    "model_DTC = DecisionTreeClassifier()\n",
    "model_DTC.fit(X_train, Y_train)\n",
    "Y_DTC = model_DTC.predict(X_test)\n",
    "\n",
    "F_measure['DecisionTreeClassifier'] = f1_score(Y_test, Y_DTC, average = \"weighted\")"
   ]
  },
  {
   "cell_type": "markdown",
   "id": "f82d310d",
   "metadata": {},
   "source": [
    "RandomForestClassifier"
   ]
  },
  {
   "cell_type": "code",
   "execution_count": 23,
   "id": "ee450780",
   "metadata": {},
   "outputs": [],
   "source": [
    "# Стандартизируем данные\n",
    "\n",
    "RFC = RandomForestClassifier()\n",
    "scaler = StandardScaler()\n",
    "\n",
    "steps_RFC = [('normalizer', scaler), ('RFC', RFC)]\n",
    "pipe_RFC = Pipeline(steps_RFC)"
   ]
  },
  {
   "cell_type": "code",
   "execution_count": 24,
   "id": "8ce875f8",
   "metadata": {},
   "outputs": [],
   "source": [
    "# обучение\n",
    "\n",
    "model_RFC = RandomForestClassifier()\n",
    "model_RFC.fit(X_train, Y_train)\n",
    "Y_RFC = model_RFC.predict(X_test)\n",
    "\n",
    "F_measure['RandomForestClassifier'] = f1_score(Y_test, Y_RFC, average = \"weighted\")"
   ]
  },
  {
   "cell_type": "code",
   "execution_count": 25,
   "id": "cfa9e2b2",
   "metadata": {},
   "outputs": [
    {
     "name": "stdout",
     "output_type": "stream",
     "text": [
      "Наибольшее значение F-меры: 0.9983315321915928 .  Модель: RandomForestClassifier\n"
     ]
    }
   ],
   "source": [
    "maxim = 0\n",
    "\n",
    "for i, j in F_measure.items():\n",
    "\n",
    "    if j > maxim:\n",
    "        maxim = j\n",
    "        model_max = i\n",
    "print ('Наибольшее значение F-меры:', maxim, '.  Модель:', model_max)\n"
   ]
  },
  {
   "cell_type": "code",
   "execution_count": 26,
   "id": "1104e96f",
   "metadata": {},
   "outputs": [
    {
     "data": {
      "text/plain": [
       "['model_Log.pkl']"
      ]
     },
     "execution_count": 26,
     "metadata": {},
     "output_type": "execute_result"
    }
   ],
   "source": [
    "# сохраняем лучшую модель\n",
    "joblib.dump(model_Log, 'model_Log.pkl')"
   ]
  },
  {
   "cell_type": "markdown",
   "id": "64d7c275",
   "metadata": {},
   "source": [
    "#### 2.1. Максимально логичным образом обучить качественную модель, использующую для работы только 10 признаков из всего исходного множества."
   ]
  },
  {
   "cell_type": "markdown",
   "id": "0f188423",
   "metadata": {},
   "source": [
    "#### 2.1.1 Отбор наиболее информативных признаков для различных моделей при помощи графика с важностью коэфициентов"
   ]
  },
  {
   "cell_type": "code",
   "execution_count": 27,
   "id": "5b85dc41",
   "metadata": {},
   "outputs": [],
   "source": [
    "# Функция для вывода графика с важностью коэфициентов при соответствующих признаках\n",
    "\n",
    "def barh_plot(model, X_data):\n",
    "    attribute = X_data.columns.values\n",
    "    \n",
    "    # значение важности оцениваем по модулю\n",
    "    importance = abs(model.coef_)\n",
    "   \n",
    "    list1 = pd.DataFrame(data = {'importance': importance, 'attribute': X_data.columns, }).sort_values(by = 'importance')\n",
    "    list2 = list1.sort_values(by='importance', ascending=False)\n",
    "    print(list2)\n",
    "    sns.barplot(data = list2, y = 'attribute', x = 'importance')\n",
    "    \n",
    "    return list2\n"
   ]
  },
  {
   "cell_type": "code",
   "execution_count": 28,
   "id": "87ac0077",
   "metadata": {},
   "outputs": [],
   "source": [
    "# нормировка данных \n",
    "\n",
    "scaler = StandardScaler()\n",
    "X_train_M = scaler.fit_transform(X_train)\n",
    "X_test_M = scaler.transform(X_test)"
   ]
  },
  {
   "cell_type": "markdown",
   "id": "5e20c089",
   "metadata": {},
   "source": [
    "Линейная регрессия"
   ]
  },
  {
   "cell_type": "code",
   "execution_count": 29,
   "id": "09aaac0a",
   "metadata": {},
   "outputs": [
    {
     "name": "stdout",
     "output_type": "stream",
     "text": [
      "    importance                        attribute\n",
      "7     0.390322                      is_verified\n",
      "13    0.062824               listed_growth_rate\n",
      "4     0.062665                     listed_count\n",
      "8     0.037449                         user_age\n",
      "11    0.030482              friends_growth_rate\n",
      "2     0.029799                    friends_count\n",
      "12    0.019379           favourites_growth_rate\n",
      "1     0.018593                  followers_count\n",
      "10    0.018279            followers_growth_rate\n",
      "3     0.017070                 favourites_count\n",
      "16    0.006473        num_digits_in_screen_name\n",
      "5     0.003798               is_default_profile\n",
      "9     0.003611                      tweets_freq\n",
      "6     0.003121  is_profile_use_background_image\n",
      "14    0.002499          followers_friends_ratio\n",
      "0     0.001841                   statuses_count\n",
      "17    0.001560                   length_of_name\n",
      "19    0.001279               description_length\n",
      "15    0.001008               screen_name_length\n",
      "18    0.000029               num_digits_in_name\n"
     ]
    },
    {
     "data": {
      "image/png": "[encoded data removed]",
      "text/plain": [
       "<Figure size 432x288 with 1 Axes>"
      ]
     },
     "metadata": {
      "needs_background": "light"
     },
     "output_type": "display_data"
    }
   ],
   "source": [
    "model_regress = LinearRegression()\n",
    "model_regress.fit(X_train_M, Y_train)\n",
    "pred_train = model_regress.predict(X_train_M)\n",
    "pred_test = model_regress.predict(X_test_M)\n",
    "\n",
    "list_log = barh_plot(model_regress, X_train)"
   ]
  },
  {
   "cell_type": "markdown",
   "id": "03f35a77",
   "metadata": {},
   "source": [
    "Модель Ridge"
   ]
  },
  {
   "cell_type": "code",
   "execution_count": 30,
   "id": "492622d5",
   "metadata": {},
   "outputs": [
    {
     "name": "stdout",
     "output_type": "stream",
     "text": [
      "    importance                        attribute\n",
      "7     0.390310                      is_verified\n",
      "13    0.061893               listed_growth_rate\n",
      "4     0.061678                     listed_count\n",
      "8     0.037456                         user_age\n",
      "11    0.030461              friends_growth_rate\n",
      "2     0.029777                    friends_count\n",
      "12    0.019418           favourites_growth_rate\n",
      "1     0.017929                  followers_count\n",
      "10    0.017664            followers_growth_rate\n",
      "3     0.017105                 favourites_count\n",
      "16    0.006470        num_digits_in_screen_name\n",
      "5     0.003803               is_default_profile\n",
      "9     0.003610                      tweets_freq\n",
      "6     0.003123  is_profile_use_background_image\n",
      "14    0.002453          followers_friends_ratio\n",
      "0     0.001840                   statuses_count\n",
      "17    0.001559                   length_of_name\n",
      "19    0.001280               description_length\n",
      "15    0.001008               screen_name_length\n",
      "18    0.000030               num_digits_in_name\n"
     ]
    },
    {
     "data": {
      "image/png": "[encoded data removed]",
      "text/plain": [
       "<Figure size 432x288 with 1 Axes>"
      ]
     },
     "metadata": {
      "needs_background": "light"
     },
     "output_type": "display_data"
    }
   ],
   "source": [
    "model_ridge = Ridge(alpha = 0.04)\n",
    "model_ridge.fit(X_train_M, Y_train)\n",
    "pred_ridge_train = model_ridge.predict(X_train_M)\n",
    "pred_ridge_test = model_ridge.predict(X_test_M)\n",
    "\n",
    "list_rige = barh_plot(model_ridge, X_train)"
   ]
  },
  {
   "cell_type": "markdown",
   "id": "3f22fef4",
   "metadata": {},
   "source": [
    "#### 2.1.2 Отбор наиболее информативных признаков при помощи SelectKBest и Extra Tree Classifier"
   ]
  },
  {
   "cell_type": "code",
   "execution_count": 31,
   "id": "946a29b6",
   "metadata": {},
   "outputs": [
    {
     "data": {
      "text/plain": [
       "7                is_verified\n",
       "13        listed_growth_rate\n",
       "4               listed_count\n",
       "8                   user_age\n",
       "11       friends_growth_rate\n",
       "2              friends_count\n",
       "12    favourites_growth_rate\n",
       "1            followers_count\n",
       "10     followers_growth_rate\n",
       "Name: attribute, dtype: object"
      ]
     },
     "execution_count": 31,
     "metadata": {},
     "output_type": "execute_result"
    }
   ],
   "source": [
    "list_log['attribute'].loc[:10]\n",
    "list_rige['attribute'].loc[:10]"
   ]
  },
  {
   "cell_type": "code",
   "execution_count": 32,
   "id": "f02b87e2",
   "metadata": {},
   "outputs": [],
   "source": [
    "from sklearn import preprocessing"
   ]
  },
  {
   "cell_type": "code",
   "execution_count": 33,
   "id": "a411bcda",
   "metadata": {},
   "outputs": [],
   "source": [
    "K = 10"
   ]
  },
  {
   "cell_type": "code",
   "execution_count": 34,
   "id": "3de41fdb",
   "metadata": {},
   "outputs": [
    {
     "data": {
      "text/html": [
       "<div>\n",
       "<style scoped>\n",
       "    .dataframe tbody tr th:only-of-type {\n",
       "        vertical-align: middle;\n",
       "    }\n",
       "\n",
       "    .dataframe tbody tr th {\n",
       "        vertical-align: top;\n",
       "    }\n",
       "\n",
       "    .dataframe thead th {\n",
       "        text-align: right;\n",
       "    }\n",
       "</style>\n",
       "<table border=\"1\" class=\"dataframe\">\n",
       "  <thead>\n",
       "    <tr style=\"text-align: right;\">\n",
       "      <th></th>\n",
       "      <th>chi2_score</th>\n",
       "      <th>number</th>\n",
       "    </tr>\n",
       "  </thead>\n",
       "  <tbody>\n",
       "    <tr>\n",
       "      <th>followers_count</th>\n",
       "      <td>6.568911e+07</td>\n",
       "      <td>1</td>\n",
       "    </tr>\n",
       "    <tr>\n",
       "      <th>followers_friends_ratio</th>\n",
       "      <td>9.749806e+06</td>\n",
       "      <td>14</td>\n",
       "    </tr>\n",
       "    <tr>\n",
       "      <th>favourites_count</th>\n",
       "      <td>8.109731e+06</td>\n",
       "      <td>3</td>\n",
       "    </tr>\n",
       "    <tr>\n",
       "      <th>statuses_count</th>\n",
       "      <td>2.747301e+06</td>\n",
       "      <td>0</td>\n",
       "    </tr>\n",
       "    <tr>\n",
       "      <th>friends_count</th>\n",
       "      <td>1.388549e+06</td>\n",
       "      <td>2</td>\n",
       "    </tr>\n",
       "    <tr>\n",
       "      <th>user_age</th>\n",
       "      <td>7.447282e+05</td>\n",
       "      <td>8</td>\n",
       "    </tr>\n",
       "    <tr>\n",
       "      <th>listed_count</th>\n",
       "      <td>4.817762e+05</td>\n",
       "      <td>4</td>\n",
       "    </tr>\n",
       "    <tr>\n",
       "      <th>followers_growth_rate</th>\n",
       "      <td>1.412058e+04</td>\n",
       "      <td>10</td>\n",
       "    </tr>\n",
       "    <tr>\n",
       "      <th>favourites_growth_rate</th>\n",
       "      <td>2.046060e+03</td>\n",
       "      <td>12</td>\n",
       "    </tr>\n",
       "    <tr>\n",
       "      <th>description_length</th>\n",
       "      <td>1.438377e+03</td>\n",
       "      <td>19</td>\n",
       "    </tr>\n",
       "  </tbody>\n",
       "</table>\n",
       "</div>"
      ],
      "text/plain": [
       "                           chi2_score  number\n",
       "followers_count          6.568911e+07       1\n",
       "followers_friends_ratio  9.749806e+06      14\n",
       "favourites_count         8.109731e+06       3\n",
       "statuses_count           2.747301e+06       0\n",
       "friends_count            1.388549e+06       2\n",
       "user_age                 7.447282e+05       8\n",
       "listed_count             4.817762e+05       4\n",
       "followers_growth_rate    1.412058e+04      10\n",
       "favourites_growth_rate   2.046060e+03      12\n",
       "description_length       1.438377e+03      19"
      ]
     },
     "execution_count": 34,
     "metadata": {},
     "output_type": "execute_result"
    }
   ],
   "source": [
    "# При помощи SelectKBest. DataFrame с признаками и их информативностью, отсортированный по убыванию\n",
    "\n",
    "best_features1 = SelectKBest(score_func=chi2, k=K)\n",
    "fit = best_features1.fit(X.values, Y.values)\n",
    "\n",
    "best_features1 = pd.DataFrame(data=fit.scores_, index = X.columns, columns=['chi2_score'])\n",
    "best_features1['number'] = pd.Series(range(X.shape[1]), index = best_features1.index)\n",
    "\n",
    "sel_best = best_features1.nlargest(K, 'chi2_score')\n",
    "sel_best"
   ]
  },
  {
   "cell_type": "code",
   "execution_count": 35,
   "id": "8f5f21f6",
   "metadata": {},
   "outputs": [
    {
     "data": {
      "text/html": [
       "<div>\n",
       "<style scoped>\n",
       "    .dataframe tbody tr th:only-of-type {\n",
       "        vertical-align: middle;\n",
       "    }\n",
       "\n",
       "    .dataframe tbody tr th {\n",
       "        vertical-align: top;\n",
       "    }\n",
       "\n",
       "    .dataframe thead th {\n",
       "        text-align: right;\n",
       "    }\n",
       "</style>\n",
       "<table border=\"1\" class=\"dataframe\">\n",
       "  <thead>\n",
       "    <tr style=\"text-align: right;\">\n",
       "      <th></th>\n",
       "      <th>feature_importance</th>\n",
       "      <th>number</th>\n",
       "    </tr>\n",
       "  </thead>\n",
       "  <tbody>\n",
       "    <tr>\n",
       "      <th>is_verified</th>\n",
       "      <td>0.586655</td>\n",
       "      <td>7</td>\n",
       "    </tr>\n",
       "    <tr>\n",
       "      <th>user_age</th>\n",
       "      <td>0.202571</td>\n",
       "      <td>8</td>\n",
       "    </tr>\n",
       "    <tr>\n",
       "      <th>favourites_count</th>\n",
       "      <td>0.038214</td>\n",
       "      <td>3</td>\n",
       "    </tr>\n",
       "    <tr>\n",
       "      <th>is_profile_use_background_image</th>\n",
       "      <td>0.031182</td>\n",
       "      <td>6</td>\n",
       "    </tr>\n",
       "    <tr>\n",
       "      <th>is_default_profile</th>\n",
       "      <td>0.028586</td>\n",
       "      <td>5</td>\n",
       "    </tr>\n",
       "    <tr>\n",
       "      <th>favourites_growth_rate</th>\n",
       "      <td>0.022276</td>\n",
       "      <td>12</td>\n",
       "    </tr>\n",
       "    <tr>\n",
       "      <th>friends_growth_rate</th>\n",
       "      <td>0.018012</td>\n",
       "      <td>11</td>\n",
       "    </tr>\n",
       "    <tr>\n",
       "      <th>followers_friends_ratio</th>\n",
       "      <td>0.015995</td>\n",
       "      <td>14</td>\n",
       "    </tr>\n",
       "    <tr>\n",
       "      <th>friends_count</th>\n",
       "      <td>0.012228</td>\n",
       "      <td>2</td>\n",
       "    </tr>\n",
       "    <tr>\n",
       "      <th>listed_count</th>\n",
       "      <td>0.006920</td>\n",
       "      <td>4</td>\n",
       "    </tr>\n",
       "  </tbody>\n",
       "</table>\n",
       "</div>"
      ],
      "text/plain": [
       "                                 feature_importance  number\n",
       "is_verified                                0.586655       7\n",
       "user_age                                   0.202571       8\n",
       "favourites_count                           0.038214       3\n",
       "is_profile_use_background_image            0.031182       6\n",
       "is_default_profile                         0.028586       5\n",
       "favourites_growth_rate                     0.022276      12\n",
       "friends_growth_rate                        0.018012      11\n",
       "followers_friends_ratio                    0.015995      14\n",
       "friends_count                              0.012228       2\n",
       "listed_count                               0.006920       4"
      ]
     },
     "execution_count": 35,
     "metadata": {},
     "output_type": "execute_result"
    }
   ],
   "source": [
    "# При помощи ExtraTreesClassifier. DataFrame с признаками и их информативностью, отсортированный по убыванию\n",
    "model2 = ExtraTreesClassifier()\n",
    "model2 = model2.fit(X.values, Y.values.ravel())\n",
    "\n",
    "best_features2 = pd.DataFrame(data = model2.feature_importances_, index = X.columns, columns=['feature_importance'])\n",
    "best_features2['number'] = pd.Series(range(X.shape[1]), index = best_features2.index)\n",
    "\n",
    "ex_trees = best_features2.nlargest(K, 'feature_importance')\n",
    "ex_trees"
   ]
  },
  {
   "cell_type": "markdown",
   "id": "4153545e",
   "metadata": {},
   "source": [
    "Признаки, которые хорошо себя показали во всех трех случаях:\n",
    "    \n",
    "- is_verified\n",
    "- user_age\n",
    "- listed_count\n",
    "- friends_growth_rate\n",
    "- favourites_count\n",
    "- followers_growth_rate\n",
    "- is_default_profile\n",
    "- is_profile_use_background_image\n",
    "- statuses_count\n",
    "- friends_count"
   ]
  },
  {
   "cell_type": "code",
   "execution_count": 36,
   "id": "a6b40f4b",
   "metadata": {},
   "outputs": [
    {
     "data": {
      "text/html": [
       "<div>\n",
       "<style scoped>\n",
       "    .dataframe tbody tr th:only-of-type {\n",
       "        vertical-align: middle;\n",
       "    }\n",
       "\n",
       "    .dataframe tbody tr th {\n",
       "        vertical-align: top;\n",
       "    }\n",
       "\n",
       "    .dataframe thead th {\n",
       "        text-align: right;\n",
       "    }\n",
       "</style>\n",
       "<table border=\"1\" class=\"dataframe\">\n",
       "  <thead>\n",
       "    <tr style=\"text-align: right;\">\n",
       "      <th></th>\n",
       "      <th>statuses_count</th>\n",
       "      <th>friends_count</th>\n",
       "      <th>favourites_count</th>\n",
       "      <th>listed_count</th>\n",
       "      <th>is_default_profile</th>\n",
       "      <th>is_profile_use_background_image</th>\n",
       "      <th>is_verified</th>\n",
       "      <th>user_age</th>\n",
       "      <th>followers_growth_rate</th>\n",
       "      <th>friends_growth_rate</th>\n",
       "      <th>is_bot</th>\n",
       "    </tr>\n",
       "  </thead>\n",
       "  <tbody>\n",
       "    <tr>\n",
       "      <th>0</th>\n",
       "      <td>5124</td>\n",
       "      <td>3074</td>\n",
       "      <td>13768</td>\n",
       "      <td>126</td>\n",
       "      <td>0</td>\n",
       "      <td>0</td>\n",
       "      <td>1</td>\n",
       "      <td>2711</td>\n",
       "      <td>2.449650</td>\n",
       "      <td>1.133899</td>\n",
       "      <td>0</td>\n",
       "    </tr>\n",
       "    <tr>\n",
       "      <th>1</th>\n",
       "      <td>10672</td>\n",
       "      <td>1575</td>\n",
       "      <td>4561</td>\n",
       "      <td>191</td>\n",
       "      <td>0</td>\n",
       "      <td>1</td>\n",
       "      <td>1</td>\n",
       "      <td>4424</td>\n",
       "      <td>1.913427</td>\n",
       "      <td>0.356013</td>\n",
       "      <td>0</td>\n",
       "    </tr>\n",
       "    <tr>\n",
       "      <th>2</th>\n",
       "      <td>704</td>\n",
       "      <td>454</td>\n",
       "      <td>2400</td>\n",
       "      <td>77</td>\n",
       "      <td>0</td>\n",
       "      <td>0</td>\n",
       "      <td>0</td>\n",
       "      <td>1358</td>\n",
       "      <td>2.288660</td>\n",
       "      <td>0.334315</td>\n",
       "      <td>0</td>\n",
       "    </tr>\n",
       "    <tr>\n",
       "      <th>3</th>\n",
       "      <td>6091</td>\n",
       "      <td>526</td>\n",
       "      <td>599</td>\n",
       "      <td>1515</td>\n",
       "      <td>0</td>\n",
       "      <td>1</td>\n",
       "      <td>1</td>\n",
       "      <td>4214</td>\n",
       "      <td>72.265781</td>\n",
       "      <td>0.124822</td>\n",
       "      <td>0</td>\n",
       "    </tr>\n",
       "    <tr>\n",
       "      <th>4</th>\n",
       "      <td>12967</td>\n",
       "      <td>204</td>\n",
       "      <td>1177</td>\n",
       "      <td>452</td>\n",
       "      <td>0</td>\n",
       "      <td>1</td>\n",
       "      <td>1</td>\n",
       "      <td>3200</td>\n",
       "      <td>4.279063</td>\n",
       "      <td>0.063750</td>\n",
       "      <td>0</td>\n",
       "    </tr>\n",
       "  </tbody>\n",
       "</table>\n",
       "</div>"
      ],
      "text/plain": [
       "   statuses_count  friends_count  favourites_count  listed_count  \\\n",
       "0            5124           3074             13768           126   \n",
       "1           10672           1575              4561           191   \n",
       "2             704            454              2400            77   \n",
       "3            6091            526               599          1515   \n",
       "4           12967            204              1177           452   \n",
       "\n",
       "   is_default_profile  is_profile_use_background_image  is_verified  user_age  \\\n",
       "0                   0                                0            1      2711   \n",
       "1                   0                                1            1      4424   \n",
       "2                   0                                0            0      1358   \n",
       "3                   0                                1            1      4214   \n",
       "4                   0                                1            1      3200   \n",
       "\n",
       "   followers_growth_rate  friends_growth_rate  is_bot  \n",
       "0               2.449650             1.133899       0  \n",
       "1               1.913427             0.356013       0  \n",
       "2               2.288660             0.334315       0  \n",
       "3              72.265781             0.124822       0  \n",
       "4               4.279063             0.063750       0  "
      ]
     },
     "execution_count": 36,
     "metadata": {},
     "output_type": "execute_result"
    }
   ],
   "source": [
    "# Удаляем 10 наименее значимых\n",
    "\n",
    "df_best = df1.drop(columns = ['followers_count', \n",
    "                           'tweets_freq', \n",
    "                            'favourites_growth_rate', \n",
    "                            'listed_growth_rate',\n",
    "                            'followers_friends_ratio', \n",
    "                            'screen_name_length',\n",
    "                            'num_digits_in_screen_name', \n",
    "                            'length_of_name', \n",
    "                            'num_digits_in_name',\n",
    "                            'description_length'])\n",
    "\n",
    "df_best.head()"
   ]
  },
  {
   "cell_type": "code",
   "execution_count": 37,
   "id": "b24b05e0",
   "metadata": {},
   "outputs": [
    {
     "data": {
      "text/plain": [
       "<AxesSubplot: >"
      ]
     },
     "execution_count": 37,
     "metadata": {},
     "output_type": "execute_result"
    },
    {
     "data": {
      "image/png": "[encoded data removed]",
      "text/plain": [
       "<Figure size 720x720 with 2 Axes>"
      ]
     },
     "metadata": {
      "needs_background": "light"
     },
     "output_type": "display_data"
    }
   ],
   "source": [
    "fig, ax = plt.subplots(figsize=(10, 10))\n",
    "sns.heatmap(df_best.corr(), cmap = \"mako\")"
   ]
  },
  {
   "cell_type": "code",
   "execution_count": 38,
   "id": "bc7df928",
   "metadata": {},
   "outputs": [
    {
     "data": {
      "text/plain": [
       "{'KNN__algorithm': 'auto', 'KNN__n_neighbors': 34, 'KNN__weights': 'uniform'}"
      ]
     },
     "execution_count": 38,
     "metadata": {},
     "output_type": "execute_result"
    }
   ],
   "source": [
    "# делим на обучающую и тестовую\n",
    "X = df_best.drop('is_bot', axis = 1)\n",
    "Y = df_best.is_bot\n",
    "\n",
    "X_train, X_test, Y_train, Y_test = train_test_split(X, Y, test_size = 0.25, random_state = 21)\n",
    "\n",
    "\n",
    "# Стандартизируем данные\n",
    "KNN = KNeighborsClassifier()\n",
    "scaler = StandardScaler()\n",
    "\n",
    "steps_KNN = [('normalizer', scaler), ('KNN', KNN)]\n",
    "pipe_KNN = Pipeline(steps_KNN)\n",
    "\n",
    "\n",
    "# С помощью GridSearchCV производим подбор гиперпараметров:\n",
    "# n_neighbors - это количество соседей, которые нужно использовать, \n",
    "# weights - весовая функция,используемая при прогнозировании\n",
    "# algorithm - алгоритм, используемый для вычисления ближайших соседей\n",
    "params_KNN = \\\n",
    "     {'KNN__n_neighbors': np.arange(5, 50), \n",
    "     'KNN__weights': ['uniform', 'distance'], \n",
    "     'KNN__algorithm': ['auto', 'ball_tree', 'kd_tree', 'brute']}\n",
    "\n",
    "grid_search_KNN = GridSearchCV(pipe_KNN, params_KNN)\n",
    "grid_search_KNN.fit(X_train, Y_train)\n",
    "\n",
    "grid_search_KNN.best_params_"
   ]
  },
  {
   "cell_type": "code",
   "execution_count": 39,
   "id": "b81d3cbe",
   "metadata": {},
   "outputs": [],
   "source": [
    "# Обучаем модель с лучшими параметрами\n",
    "\n",
    "model_KNN = KNeighborsClassifier(algorithm = grid_search_KNN.best_params_['KNN__algorithm'], \n",
    "                                 n_neighbors = grid_search_KNN.best_params_['KNN__n_neighbors'], \n",
    "                                 weights = grid_search_KNN.best_params_['KNN__weights'])\n",
    "model_KNN.fit(X_train, Y_train)\n",
    "Y_KNN = model_KNN.predict(X_test)\n",
    "\n",
    "conf_mat_KNN = confusion_matrix(Y_test, Y_KNN)"
   ]
  },
  {
   "cell_type": "code",
   "execution_count": 40,
   "id": "e3a194ca",
   "metadata": {},
   "outputs": [
    {
     "name": "stdout",
     "output_type": "stream",
     "text": [
      "              precision    recall  f1-score   support\n",
      "\n",
      "           0       0.97      0.99      0.98       447\n",
      "           1       0.96      0.92      0.94       153\n",
      "\n",
      "    accuracy                           0.97       600\n",
      "   macro avg       0.97      0.95      0.96       600\n",
      "weighted avg       0.97      0.97      0.97       600\n",
      "\n"
     ]
    }
   ],
   "source": [
    "print(classification_report(Y_test, model_KNN.predict(X_test)))"
   ]
  },
  {
   "cell_type": "code",
   "execution_count": 41,
   "id": "476a8beb",
   "metadata": {},
   "outputs": [
    {
     "data": {
      "text/plain": [
       "['model_KNN.pkl']"
      ]
     },
     "execution_count": 41,
     "metadata": {},
     "output_type": "execute_result"
    }
   ],
   "source": [
    "# сохраняем\n",
    "joblib.dump(model_KNN, 'model_KNN.pkl')"
   ]
  },
  {
   "cell_type": "markdown",
   "id": "fc2dc00a",
   "metadata": {},
   "source": [
    "#### 2.2. Обучить модель, обеспечивающую вероятность пропуска бота на уровне не выше 0.03, и имеющую насколько возможно низкую вероятность ложного обнаружения."
   ]
  },
  {
   "cell_type": "markdown",
   "id": "1d34c394",
   "metadata": {},
   "source": [
    "Метрики:\n",
    "\n",
    "\n",
    "Accuracy = (TP + TN)/(TP + TN + FP + FN)\n",
    "\n",
    "Precision = TP/(TP + FP)\n",
    "\n",
    "Recall =  TP/(TP + FN)\n",
    "\n",
    "\n",
    "Можно через матрицу ошибок:\n",
    "\n",
    "\n",
    "- TP (true positive, истинно положительные, объект верно отнесён к данному классу) - сумма диагональных элементов\n",
    "- FP (false positive, ложно положительные, объект неверно отнесён к данному классу) - это сумма соответствующего столбца, за вычетом диагонального элемента\n",
    "- TN (true negative, истинно отрицательные, верно определено, что объект не принадлежит к данному классу) - удалить соответствующие столбец и строку из матрицы, а затем суммировать все остальные элементы\n",
    "- FN (false negative, ложно отрицательные, неверно определено, что объект не принадлежит к данному классу) - сумму соответствующей строки, за вычетом диагонального элемента\n"
   ]
  },
  {
   "cell_type": "markdown",
   "id": "ad96f64b",
   "metadata": {},
   "source": [
    "- Ложное обнаружение - ошибка 1 рода (Type I Error) - объект ошибочно относится к положительному классу ( = FP / количество в тестовой выборке).\n",
    "\n",
    "- Пропуск бота - ошибка 2 рода (Type II Error) - объект ошибочно относится к отрицательному классу ( = FN / количество в тестовой выборке).\n",
    "\n"
   ]
  },
  {
   "cell_type": "code",
   "execution_count": 42,
   "id": "53988df2",
   "metadata": {},
   "outputs": [],
   "source": [
    "# для сравнения ошибок первого и второго рода\n",
    "Error_I = {'LogisticRegression':0, \n",
    "             'KNeighborsClassifier':0, \n",
    "             'DecisionTreeClassifier':0,\n",
    "             'RandomForestClassifier':0 }\n",
    "\n",
    "\n",
    "Error_II = {'LogisticRegression':0, \n",
    "             'KNeighborsClassifier':0, \n",
    "             'DecisionTreeClassifier':0,\n",
    "             'RandomForestClassifier':0 }"
   ]
  },
  {
   "cell_type": "code",
   "execution_count": 43,
   "id": "0bbd11f7",
   "metadata": {},
   "outputs": [],
   "source": [
    "# Работаем с полным набором признаков\n",
    "X = df1.drop('is_bot', axis = 1)\n",
    "Y = df1.is_bot"
   ]
  },
  {
   "cell_type": "code",
   "execution_count": 44,
   "id": "f0610c1b",
   "metadata": {},
   "outputs": [],
   "source": [
    "X_train, X_test, Y_train, Y_test = train_test_split(X, Y, test_size = 0.25, random_state = 21)"
   ]
  },
  {
   "cell_type": "code",
   "execution_count": 45,
   "id": "ce844f92",
   "metadata": {},
   "outputs": [],
   "source": [
    "# количество в тестовой выборке\n",
    "M = Y_test.shape[0]"
   ]
  },
  {
   "cell_type": "code",
   "execution_count": 46,
   "id": "2234cbe4",
   "metadata": {},
   "outputs": [],
   "source": [
    "# расчет метрик по матрице ошибок\n",
    "\n",
    "def Metrics (conf_mat):\n",
    "    Metrics_list = []\n",
    "    num_classes = 2\n",
    "    \n",
    "    FP_val = []\n",
    "    for i in range(num_classes):    \n",
    "        FP_val.append(sum(conf_mat[:,i]) - conf_mat[i,i])\n",
    "    FP = sum(FP_val)\n",
    "    \n",
    "    FN_val = []\n",
    "    for i in range(num_classes):\n",
    "        FN_val.append(sum(conf_mat[i,:]) - conf_mat[i,i])\n",
    "    FN = (sum(FN_val))\n",
    "    \n",
    "    Metrics_list.append(FP)\n",
    "    Metrics_list.append(FN)\n",
    "\n",
    "    return Metrics_list"
   ]
  },
  {
   "cell_type": "markdown",
   "id": "3ffb2715",
   "metadata": {},
   "source": [
    "Логистическая регрессия"
   ]
  },
  {
   "cell_type": "code",
   "execution_count": 47,
   "id": "e1d1574c",
   "metadata": {},
   "outputs": [],
   "source": [
    "# Стандартизируем данные\n",
    "\n",
    "Log = LogisticRegression()\n",
    "scaler = StandardScaler()\n",
    "X_train_M = scaler.fit_transform(X_train)\n",
    "X_test_M = scaler.transform(X_test)"
   ]
  },
  {
   "cell_type": "code",
   "execution_count": 48,
   "id": "116daa96",
   "metadata": {},
   "outputs": [],
   "source": [
    "# обучение\n",
    "\n",
    "model_Log = LogisticRegression() \n",
    "model_Log.fit(X_train_M, Y_train)\n",
    "Y_Log = model_Log.predict(X_test_M)"
   ]
  },
  {
   "cell_type": "code",
   "execution_count": 49,
   "id": "22fd5963",
   "metadata": {},
   "outputs": [],
   "source": [
    "conf_mat_Log = confusion_matrix(Y_test, Y_Log)\n",
    "Error_I['LogisticRegression'] = Metrics (conf_mat_Log)[0] / M\n",
    "Error_II['LogisticRegression'] = Metrics (conf_mat_Log)[1] / M"
   ]
  },
  {
   "cell_type": "markdown",
   "id": "5c2c4234",
   "metadata": {},
   "source": [
    "K-соседей"
   ]
  },
  {
   "cell_type": "code",
   "execution_count": 50,
   "id": "e0361312",
   "metadata": {},
   "outputs": [],
   "source": [
    "# Стандартизируем данные\n",
    "\n",
    "KNN = KNeighborsClassifier()\n",
    "scaler = StandardScaler()\n",
    "\n",
    "steps_KNN = [('normalizer', scaler), ('KNN', KNN)]\n",
    "pipe_KNN = Pipeline(steps_KNN)"
   ]
  },
  {
   "cell_type": "code",
   "execution_count": 51,
   "id": "ba02f307",
   "metadata": {},
   "outputs": [
    {
     "data": {
      "text/plain": [
       "{'KNN__algorithm': 'auto', 'KNN__n_neighbors': 5, 'KNN__weights': 'distance'}"
      ]
     },
     "execution_count": 51,
     "metadata": {},
     "output_type": "execute_result"
    }
   ],
   "source": [
    "# С помощью GridSearchCV производим подбор гиперпараметров:\n",
    "# n_neighbors - это количество соседей, которые нужно использовать, \n",
    "# weights - весовая функция,используемая при прогнозировании\n",
    "# algorithm - алгоритм, используемый для вычисления ближайших соседей\n",
    "\n",
    "\n",
    "params_KNN = \\\n",
    "     {'KNN__n_neighbors': np.arange(5, 50), \n",
    "     'KNN__weights': ['uniform', 'distance'], \n",
    "     'KNN__algorithm': ['auto', 'ball_tree', 'kd_tree', 'brute']}\n",
    "\n",
    "grid_search_KNN = GridSearchCV(pipe_KNN, params_KNN)\n",
    "grid_search_KNN.fit(X_train, Y_train)\n",
    "\n",
    "grid_search_KNN.best_params_"
   ]
  },
  {
   "cell_type": "code",
   "execution_count": 52,
   "id": "ac44955d",
   "metadata": {},
   "outputs": [],
   "source": [
    "# Обучаем модель с лучшими параметрами\n",
    "\n",
    "model_KNN = KNeighborsClassifier(algorithm = grid_search_KNN.best_params_['KNN__algorithm'], \n",
    "                                 n_neighbors = grid_search_KNN.best_params_['KNN__n_neighbors'], \n",
    "                                 weights = grid_search_KNN.best_params_['KNN__weights'])\n",
    "model_KNN.fit(X_train, Y_train)\n",
    "Y_KNN = model_KNN.predict(X_test)"
   ]
  },
  {
   "cell_type": "code",
   "execution_count": 53,
   "id": "03e80172",
   "metadata": {},
   "outputs": [],
   "source": [
    "conf_mat_KNN = confusion_matrix(Y_test, Y_KNN)\n",
    "Error_I['KNeighborsClassifier'] = Metrics (conf_mat_KNN)[0] / M\n",
    "Error_II['KNeighborsClassifier'] = Metrics (conf_mat_KNN)[1] / M"
   ]
  },
  {
   "cell_type": "markdown",
   "id": "65c1dfd6",
   "metadata": {},
   "source": [
    "Дерево решений"
   ]
  },
  {
   "cell_type": "code",
   "execution_count": 54,
   "id": "2b24789b",
   "metadata": {},
   "outputs": [],
   "source": [
    "# Стандартизируем данные\n",
    "\n",
    "DTC = DecisionTreeClassifier()\n",
    "scaler = StandardScaler()\n",
    "\n",
    "steps_DTC = [('normalizer', scaler), ('DTC', DTC)]\n",
    "pipe_DTC = Pipeline(steps_DTC)"
   ]
  },
  {
   "cell_type": "code",
   "execution_count": 55,
   "id": "5fcdebd8",
   "metadata": {},
   "outputs": [
    {
     "data": {
      "text/plain": [
       "{'DTC__criterion': 'gini', 'DTC__max_depth': 6, 'DTC__splitter': 'random'}"
      ]
     },
     "execution_count": 55,
     "metadata": {},
     "output_type": "execute_result"
    }
   ],
   "source": [
    "# Подбираем гиперпараметры\n",
    "\n",
    "params_DTC = \\\n",
    "     {'DTC__max_depth': np.arange(1, 10),\n",
    "     'DTC__splitter': ['best', 'random'],\n",
    "     'DTC__criterion': ['gini', 'entropy']}\n",
    "\n",
    "grid_search_DTC = GridSearchCV(pipe_DTC, params_DTC)\n",
    "grid_search_DTC.fit(X_train, Y_train)\n",
    "grid_search_DTC.best_params_\n"
   ]
  },
  {
   "cell_type": "code",
   "execution_count": 56,
   "id": "c95ebb80",
   "metadata": {},
   "outputs": [],
   "source": [
    "# Обучаем модель с лучшими параметрами\n",
    "\n",
    "model_DTC = DecisionTreeClassifier(max_depth = grid_search_DTC.best_params_['DTC__max_depth'], \n",
    "                                 splitter = grid_search_DTC.best_params_['DTC__splitter'], \n",
    "                                 criterion = grid_search_DTC.best_params_['DTC__criterion'])\n",
    "model_DTC.fit(X_train, Y_train)\n",
    "Y_DTC = model_DTC.predict(X_test)"
   ]
  },
  {
   "cell_type": "code",
   "execution_count": 57,
   "id": "dcc77932",
   "metadata": {},
   "outputs": [],
   "source": [
    "conf_mat_DTC = confusion_matrix(Y_test, Y_DTC)\n",
    "Error_I['DecisionTreeClassifier'] = Metrics (conf_mat_DTC)[0] / M\n",
    "Error_II['DecisionTreeClassifier'] = Metrics (conf_mat_DTC)[1] / M"
   ]
  },
  {
   "cell_type": "markdown",
   "id": "6957b43f",
   "metadata": {},
   "source": [
    "Случайный лес"
   ]
  },
  {
   "cell_type": "code",
   "execution_count": 58,
   "id": "43ae9fe6",
   "metadata": {},
   "outputs": [],
   "source": [
    "# Стандартизируем данные\n",
    "\n",
    "RFC = RandomForestClassifier()\n",
    "scaler = StandardScaler()\n",
    "\n",
    "steps_RFC = [('normalizer', scaler), ('RFC', RFC)]\n",
    "pipe_RFC = Pipeline(steps_RFC)"
   ]
  },
  {
   "cell_type": "code",
   "execution_count": 59,
   "id": "437a6f32",
   "metadata": {},
   "outputs": [
    {
     "data": {
      "text/plain": [
       "{'RFC__criterion': 'entropy', 'RFC__n_estimators': 27}"
      ]
     },
     "execution_count": 59,
     "metadata": {},
     "output_type": "execute_result"
    }
   ],
   "source": [
    "#Подбираем гиперпараметры\n",
    "\n",
    "params_RFC = \\\n",
    "     {'RFC__n_estimators': np.arange(10, 100),\n",
    "     'RFC__criterion': ['gini', 'entropy']}\n",
    "grid_search_RFC = GridSearchCV(pipe_RFC, params_RFC)\n",
    "grid_search_RFC.fit(X_train, Y_train)\n",
    "grid_search_RFC.best_params_"
   ]
  },
  {
   "cell_type": "code",
   "execution_count": 60,
   "id": "594c598d",
   "metadata": {},
   "outputs": [],
   "source": [
    "# Обучаем модель с лучшими параметрами\n",
    "\n",
    "model_RFC = RandomForestClassifier(n_estimators = grid_search_RFC.best_params_['RFC__n_estimators'], \n",
    "                                 criterion = grid_search_RFC.best_params_['RFC__criterion'])\n",
    "model_RFC.fit(X_train, Y_train)\n",
    "Y_RFC = model_RFC.predict(X_test)"
   ]
  },
  {
   "cell_type": "code",
   "execution_count": 61,
   "id": "8d865834",
   "metadata": {},
   "outputs": [],
   "source": [
    "conf_mat_RFC = confusion_matrix(Y_test, Y_RFC)\n",
    "Error_I['RandomForestClassifier'] = Metrics (conf_mat_RFC)[0] / M\n",
    "Error_II['RandomForestClassifier'] = Metrics (conf_mat_RFC)[1] / M"
   ]
  },
  {
   "cell_type": "markdown",
   "id": "95c7fac6",
   "metadata": {},
   "source": [
    "Сравниваем значения ошибок первого и второго рода у различных моделей"
   ]
  },
  {
   "cell_type": "code",
   "execution_count": 62,
   "id": "60821ab6",
   "metadata": {},
   "outputs": [
    {
     "data": {
      "text/plain": [
       "{'LogisticRegression': 0.0033333333333333335,\n",
       " 'KNeighborsClassifier': 0.015,\n",
       " 'DecisionTreeClassifier': 0.0016666666666666668,\n",
       " 'RandomForestClassifier': 0.0016666666666666668}"
      ]
     },
     "execution_count": 62,
     "metadata": {},
     "output_type": "execute_result"
    }
   ],
   "source": [
    "Error_II"
   ]
  },
  {
   "cell_type": "markdown",
   "id": "a1aca3e5",
   "metadata": {},
   "source": [
    "Ошибка II рода ни в одном случае не превышает 0,03"
   ]
  },
  {
   "cell_type": "code",
   "execution_count": 63,
   "id": "e32f6da4",
   "metadata": {},
   "outputs": [
    {
     "name": "stdout",
     "output_type": "stream",
     "text": [
      "Наименьшая ошибка первого рода: 0.0016666666666666668 .  Модель: DecisionTreeClassifier\n"
     ]
    }
   ],
   "source": [
    "minim = 1\n",
    "\n",
    "for i, j in Error_I.items():\n",
    "    if j < minim:\n",
    "        minim = j\n",
    "        model_min = i\n",
    "print ('Наименьшая ошибка первого рода:', minim, '.  Модель:', model_min)\n"
   ]
  },
  {
   "cell_type": "code",
   "execution_count": 64,
   "id": "38c8d25f",
   "metadata": {},
   "outputs": [
    {
     "name": "stdout",
     "output_type": "stream",
     "text": [
      "              precision    recall  f1-score   support\n",
      "\n",
      "           0       1.00      1.00      1.00       447\n",
      "           1       1.00      0.99      1.00       153\n",
      "\n",
      "    accuracy                           1.00       600\n",
      "   macro avg       1.00      1.00      1.00       600\n",
      "weighted avg       1.00      1.00      1.00       600\n",
      "\n"
     ]
    }
   ],
   "source": [
    "report_RFC = classification_report(Y_test, Y_RFC)\n",
    "print(report_RFC)"
   ]
  },
  {
   "cell_type": "markdown",
   "id": "7cb315e7",
   "metadata": {},
   "source": [
    "Вывод:  \n",
    "\n",
    "- Наименьшую ошибку первого рода дает модель RandomForestClassifier\n",
    "        \n",
    "- Ошибка второго рода не превышает 0,03 у всех четырех моделей. Но наименьшая у DecisionTreeClassifier и RandomForestClassifier\n",
    "        "
   ]
  },
  {
   "cell_type": "code",
   "execution_count": 65,
   "id": "5da03017",
   "metadata": {},
   "outputs": [
    {
     "data": {
      "text/plain": [
       "['model_RFC.pkl']"
      ]
     },
     "execution_count": 65,
     "metadata": {},
     "output_type": "execute_result"
    }
   ],
   "source": [
    "# сохраняем \"удачные\" модели \n",
    "joblib.dump(model_RFC, 'model_RFC.pkl')"
   ]
  },
  {
   "cell_type": "code",
   "execution_count": 66,
   "id": "e993ee14",
   "metadata": {},
   "outputs": [
    {
     "data": {
      "text/plain": [
       "['model_DTC.pkl']"
      ]
     },
     "execution_count": 66,
     "metadata": {},
     "output_type": "execute_result"
    }
   ],
   "source": [
    "joblib.dump(model_DTC, 'model_DTC.pkl')"
   ]
  }
 ],
 "metadata": {
  "kernelspec": {
   "display_name": "Python 3 (ipykernel)",
   "language": "python",
   "name": "python3"
  },
  "language_info": {
   "codemirror_mode": {
    "name": "ipython",
    "version": 3
   },
   "file_extension": ".py",
   "mimetype": "text/x-python",
   "name": "python",
   "nbconvert_exporter": "python",
   "pygments_lexer": "ipython3",
   "version": "3.8.10"
  }
 },
 "nbformat": 4,
 "nbformat_minor": 5
}
