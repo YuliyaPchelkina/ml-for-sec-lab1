{
 "cells": [
  {
   "cell_type": "markdown",
   "id": "9a93bd71",
   "metadata": {},
   "source": [
    "### ML for Security. Лабораторная №1\n",
    "\n",
    "Пчелкина Ю.Ж. (группа 6231-010402D)"
   ]
  },
  {
   "cell_type": "code",
   "execution_count": 1,
   "id": "e40d548b",
   "metadata": {},
   "outputs": [],
   "source": [
    "import pandas as pd\n",
    "import numpy as np\n",
    "import seaborn as sns\n",
    "\n",
    "import matplotlib.pyplot as plt"
   ]
  },
  {
   "cell_type": "code",
   "execution_count": 2,
   "id": "0d5eae49",
   "metadata": {},
   "outputs": [],
   "source": [
    "from sklearn.linear_model import LogisticRegression\n",
    "from sklearn.neighbors import KNeighborsClassifier\n",
    "from sklearn.tree import DecisionTreeClassifier\n",
    "from sklearn.ensemble import RandomForestClassifier\n",
    "\n",
    "from sklearn.linear_model import LinearRegression\n",
    "from sklearn.linear_model import Lasso\n",
    "from sklearn.linear_model import Ridge\n",
    "from sklearn.linear_model import ElasticNet\n"
   ]
  },
  {
   "cell_type": "code",
   "execution_count": 3,
   "id": "d17a8844",
   "metadata": {},
   "outputs": [],
   "source": [
    "from sklearn.metrics import confusion_matrix, classification_report, f1_score, accuracy_score, roc_curve"
   ]
  },
  {
   "cell_type": "code",
   "execution_count": 4,
   "id": "4aac1e15",
   "metadata": {},
   "outputs": [],
   "source": [
    "from sklearn.pipeline import Pipeline\n",
    "from sklearn.preprocessing import StandardScaler"
   ]
  },
  {
   "cell_type": "code",
   "execution_count": 5,
   "id": "504f5e06",
   "metadata": {},
   "outputs": [],
   "source": [
    "from sklearn.feature_selection import SelectKBest, chi2\n",
    "from sklearn.ensemble import ExtraTreesClassifier"
   ]
  },
  {
   "cell_type": "code",
   "execution_count": 6,
   "id": "10231a15",
   "metadata": {},
   "outputs": [],
   "source": [
    "from sklearn.model_selection import GridSearchCV"
   ]
  },
  {
   "cell_type": "code",
   "execution_count": 7,
   "id": "f17ce9b0",
   "metadata": {},
   "outputs": [
    {
     "data": {
      "text/plain": [
       "(2400, 20)"
      ]
     },
     "execution_count": 7,
     "metadata": {},
     "output_type": "execute_result"
    }
   ],
   "source": [
    "df = pd.read_csv('features_train.csv')\n",
    "df.shape"
   ]
  },
  {
   "cell_type": "code",
   "execution_count": 8,
   "id": "6ab3defe",
   "metadata": {},
   "outputs": [
    {
     "data": {
      "text/plain": [
       "(2400, 1)"
      ]
     },
     "execution_count": 8,
     "metadata": {},
     "output_type": "execute_result"
    }
   ],
   "source": [
    "cl = pd.read_csv('classes_train.csv')\n",
    "cl.shape"
   ]
  },
  {
   "cell_type": "code",
   "execution_count": 9,
   "id": "d6cecb96",
   "metadata": {},
   "outputs": [
    {
     "data": {
      "text/html": [
       "<div>\n",
       "<style scoped>\n",
       "    .dataframe tbody tr th:only-of-type {\n",
       "        vertical-align: middle;\n",
       "    }\n",
       "\n",
       "    .dataframe tbody tr th {\n",
       "        vertical-align: top;\n",
       "    }\n",
       "\n",
       "    .dataframe thead th {\n",
       "        text-align: right;\n",
       "    }\n",
       "</style>\n",
       "<table border=\"1\" class=\"dataframe\">\n",
       "  <thead>\n",
       "    <tr style=\"text-align: right;\">\n",
       "      <th></th>\n",
       "      <th>statuses_count</th>\n",
       "      <th>followers_count</th>\n",
       "      <th>friends_count</th>\n",
       "      <th>favourites_count</th>\n",
       "      <th>listed_count</th>\n",
       "      <th>is_default_profile</th>\n",
       "      <th>is_profile_use_background_image</th>\n",
       "      <th>is_verified</th>\n",
       "      <th>user_age</th>\n",
       "      <th>tweets_freq</th>\n",
       "      <th>...</th>\n",
       "      <th>friends_growth_rate</th>\n",
       "      <th>favourites_growth_rate</th>\n",
       "      <th>listed_growth_rate</th>\n",
       "      <th>followers_friends_ratio</th>\n",
       "      <th>screen_name_length</th>\n",
       "      <th>num_digits_in_screen_name</th>\n",
       "      <th>length_of_name</th>\n",
       "      <th>num_digits_in_name</th>\n",
       "      <th>description_length</th>\n",
       "      <th>is_bot</th>\n",
       "    </tr>\n",
       "  </thead>\n",
       "  <tbody>\n",
       "    <tr>\n",
       "      <th>0</th>\n",
       "      <td>5124</td>\n",
       "      <td>6641</td>\n",
       "      <td>3074</td>\n",
       "      <td>13768</td>\n",
       "      <td>126</td>\n",
       "      <td>0</td>\n",
       "      <td>0</td>\n",
       "      <td>1</td>\n",
       "      <td>2711</td>\n",
       "      <td>1.890077</td>\n",
       "      <td>...</td>\n",
       "      <td>1.133899</td>\n",
       "      <td>5.078569</td>\n",
       "      <td>0.046477</td>\n",
       "      <td>2.160377</td>\n",
       "      <td>12</td>\n",
       "      <td>0</td>\n",
       "      <td>14</td>\n",
       "      <td>0</td>\n",
       "      <td>73</td>\n",
       "      <td>0</td>\n",
       "    </tr>\n",
       "    <tr>\n",
       "      <th>1</th>\n",
       "      <td>10672</td>\n",
       "      <td>8465</td>\n",
       "      <td>1575</td>\n",
       "      <td>4561</td>\n",
       "      <td>191</td>\n",
       "      <td>0</td>\n",
       "      <td>1</td>\n",
       "      <td>1</td>\n",
       "      <td>4424</td>\n",
       "      <td>2.412297</td>\n",
       "      <td>...</td>\n",
       "      <td>0.356013</td>\n",
       "      <td>1.030967</td>\n",
       "      <td>0.043174</td>\n",
       "      <td>5.374603</td>\n",
       "      <td>11</td>\n",
       "      <td>0</td>\n",
       "      <td>23</td>\n",
       "      <td>0</td>\n",
       "      <td>142</td>\n",
       "      <td>0</td>\n",
       "    </tr>\n",
       "    <tr>\n",
       "      <th>2</th>\n",
       "      <td>704</td>\n",
       "      <td>3108</td>\n",
       "      <td>454</td>\n",
       "      <td>2400</td>\n",
       "      <td>77</td>\n",
       "      <td>0</td>\n",
       "      <td>0</td>\n",
       "      <td>0</td>\n",
       "      <td>1358</td>\n",
       "      <td>0.518409</td>\n",
       "      <td>...</td>\n",
       "      <td>0.334315</td>\n",
       "      <td>1.767305</td>\n",
       "      <td>0.056701</td>\n",
       "      <td>6.845815</td>\n",
       "      <td>12</td>\n",
       "      <td>0</td>\n",
       "      <td>18</td>\n",
       "      <td>0</td>\n",
       "      <td>90</td>\n",
       "      <td>0</td>\n",
       "    </tr>\n",
       "    <tr>\n",
       "      <th>3</th>\n",
       "      <td>6091</td>\n",
       "      <td>304528</td>\n",
       "      <td>526</td>\n",
       "      <td>599</td>\n",
       "      <td>1515</td>\n",
       "      <td>0</td>\n",
       "      <td>1</td>\n",
       "      <td>1</td>\n",
       "      <td>4214</td>\n",
       "      <td>1.445420</td>\n",
       "      <td>...</td>\n",
       "      <td>0.124822</td>\n",
       "      <td>0.142145</td>\n",
       "      <td>0.359516</td>\n",
       "      <td>578.950570</td>\n",
       "      <td>10</td>\n",
       "      <td>0</td>\n",
       "      <td>11</td>\n",
       "      <td>0</td>\n",
       "      <td>51</td>\n",
       "      <td>0</td>\n",
       "    </tr>\n",
       "    <tr>\n",
       "      <th>4</th>\n",
       "      <td>12967</td>\n",
       "      <td>13693</td>\n",
       "      <td>204</td>\n",
       "      <td>1177</td>\n",
       "      <td>452</td>\n",
       "      <td>0</td>\n",
       "      <td>1</td>\n",
       "      <td>1</td>\n",
       "      <td>3200</td>\n",
       "      <td>4.052187</td>\n",
       "      <td>...</td>\n",
       "      <td>0.063750</td>\n",
       "      <td>0.367812</td>\n",
       "      <td>0.141250</td>\n",
       "      <td>67.122549</td>\n",
       "      <td>13</td>\n",
       "      <td>0</td>\n",
       "      <td>14</td>\n",
       "      <td>0</td>\n",
       "      <td>106</td>\n",
       "      <td>0</td>\n",
       "    </tr>\n",
       "  </tbody>\n",
       "</table>\n",
       "<p>5 rows × 21 columns</p>\n",
       "</div>"
      ],
      "text/plain": [
       "   statuses_count  followers_count  friends_count  favourites_count  \\\n",
       "0            5124             6641           3074             13768   \n",
       "1           10672             8465           1575              4561   \n",
       "2             704             3108            454              2400   \n",
       "3            6091           304528            526               599   \n",
       "4           12967            13693            204              1177   \n",
       "\n",
       "   listed_count  is_default_profile  is_profile_use_background_image  \\\n",
       "0           126                   0                                0   \n",
       "1           191                   0                                1   \n",
       "2            77                   0                                0   \n",
       "3          1515                   0                                1   \n",
       "4           452                   0                                1   \n",
       "\n",
       "   is_verified  user_age  tweets_freq  ...  friends_growth_rate  \\\n",
       "0            1      2711     1.890077  ...             1.133899   \n",
       "1            1      4424     2.412297  ...             0.356013   \n",
       "2            0      1358     0.518409  ...             0.334315   \n",
       "3            1      4214     1.445420  ...             0.124822   \n",
       "4            1      3200     4.052187  ...             0.063750   \n",
       "\n",
       "   favourites_growth_rate  listed_growth_rate  followers_friends_ratio  \\\n",
       "0                5.078569            0.046477                 2.160377   \n",
       "1                1.030967            0.043174                 5.374603   \n",
       "2                1.767305            0.056701                 6.845815   \n",
       "3                0.142145            0.359516               578.950570   \n",
       "4                0.367812            0.141250                67.122549   \n",
       "\n",
       "   screen_name_length  num_digits_in_screen_name  length_of_name  \\\n",
       "0                  12                          0              14   \n",
       "1                  11                          0              23   \n",
       "2                  12                          0              18   \n",
       "3                  10                          0              11   \n",
       "4                  13                          0              14   \n",
       "\n",
       "   num_digits_in_name  description_length  is_bot  \n",
       "0                   0                  73       0  \n",
       "1                   0                 142       0  \n",
       "2                   0                  90       0  \n",
       "3                   0                  51       0  \n",
       "4                   0                 106       0  \n",
       "\n",
       "[5 rows x 21 columns]"
      ]
     },
     "execution_count": 9,
     "metadata": {},
     "output_type": "execute_result"
    }
   ],
   "source": [
    "\n",
    "# последним столбцом добавляем метки классов, удаляем бинарные признаки\n",
    "df1 = df.copy()\n",
    "df1['is_bot'] = pd.Series(cl['is_bot'], index = df1.index)\n",
    "\n",
    "df1.head()"
   ]
  },
  {
   "cell_type": "code",
   "execution_count": 10,
   "id": "cad4b09d",
   "metadata": {},
   "outputs": [
    {
     "data": {
      "text/plain": [
       "statuses_count                     2400\n",
       "followers_count                    2400\n",
       "friends_count                      2400\n",
       "favourites_count                   2400\n",
       "listed_count                       2400\n",
       "is_default_profile                 2400\n",
       "is_profile_use_background_image    2400\n",
       "is_verified                        2400\n",
       "user_age                           2400\n",
       "tweets_freq                        2400\n",
       "followers_growth_rate              2400\n",
       "friends_growth_rate                2400\n",
       "favourites_growth_rate             2400\n",
       "listed_growth_rate                 2400\n",
       "followers_friends_ratio            2400\n",
       "screen_name_length                 2400\n",
       "num_digits_in_screen_name          2400\n",
       "length_of_name                     2400\n",
       "num_digits_in_name                 2400\n",
       "description_length                 2400\n",
       "is_bot                             2400\n",
       "dtype: int64"
      ]
     },
     "execution_count": 10,
     "metadata": {},
     "output_type": "execute_result"
    }
   ],
   "source": [
    "# проверяем пропущенные значения\n",
    "df1.count()"
   ]
  },
  {
   "cell_type": "markdown",
   "id": "fc0922b8",
   "metadata": {},
   "source": [
    "Визуализация кореллированности признаков."
   ]
  },
  {
   "cell_type": "code",
   "execution_count": 11,
   "id": "e69800ba",
   "metadata": {},
   "outputs": [],
   "source": [
    "# sns.pairplot(df1, hue = 'is_bot')"
   ]
  },
  {
   "cell_type": "code",
   "execution_count": 12,
   "id": "056815fa",
   "metadata": {},
   "outputs": [
    {
     "data": {
      "text/plain": [
       "<AxesSubplot:>"
      ]
     },
     "execution_count": 12,
     "metadata": {},
     "output_type": "execute_result"
    },
    {
     "data": {
      "image/png": "[encoded data removed]",
      "text/plain": [
       "<Figure size 1080x1080 with 2 Axes>"
      ]
     },
     "metadata": {
      "needs_background": "light"
     },
     "output_type": "display_data"
    }
   ],
   "source": [
    "fig, ax = plt.subplots(figsize=(15,15))\n",
    "sns.heatmap(df.corr(), cmap = \"mako\")"
   ]
  },
  {
   "cell_type": "code",
   "execution_count": 13,
   "id": "12fcd020",
   "metadata": {},
   "outputs": [],
   "source": [
    "# Разделим набор данных на независимые и зависимые переменные. Сохраняем как массив\n",
    "X = df1.drop('is_bot', axis = 1)\n",
    "Y = df1.is_bot"
   ]
  },
  {
   "cell_type": "code",
   "execution_count": 14,
   "id": "d685e21a",
   "metadata": {},
   "outputs": [],
   "source": [
    "# поделили на обучающую и тестовую выборки 1:3\n",
    "from sklearn.model_selection import train_test_split\n",
    "\n",
    "X_train, X_test, Y_train, Y_test = train_test_split(X, Y, test_size = 0.25, random_state = 21)"
   ]
  },
  {
   "cell_type": "code",
   "execution_count": 15,
   "id": "76341848",
   "metadata": {},
   "outputs": [
    {
     "data": {
      "text/plain": [
       "((1800, 20), (600, 20))"
      ]
     },
     "execution_count": 15,
     "metadata": {},
     "output_type": "execute_result"
    }
   ],
   "source": [
    "X_train.shape, X_test.shape"
   ]
  },
  {
   "cell_type": "code",
   "execution_count": 16,
   "id": "1385896b",
   "metadata": {},
   "outputs": [
    {
     "data": {
      "text/plain": [
       "(1800, 600)"
      ]
     },
     "execution_count": 16,
     "metadata": {},
     "output_type": "execute_result"
    }
   ],
   "source": [
    "len(Y_train), len(Y_test)"
   ]
  },
  {
   "cell_type": "markdown",
   "id": "c6089a5d",
   "metadata": {},
   "source": [
    "#### 1.1  Обучить модель без каких-либо дополнительных условий, которая должна наилучшим образом отработать на тестовой выборке преподавателя с точки зрения F-меры"
   ]
  },
  {
   "cell_type": "markdown",
   "id": "e6668943",
   "metadata": {},
   "source": [
    "F-мера (average = \n",
    "- binary - результаты только для класса, указанного параметром pos_label\n",
    "- micro - глобально, подсчитывая общее количество истинных срабатываний, ложноотрицательных и ложноположительных результатов\n",
    "- macro - для каждой метки, находит их невзвешенное среднее значение\n",
    "- weighted - для каждой метки, находит их взвешенное среднее значение  "
   ]
  },
  {
   "cell_type": "code",
   "execution_count": 17,
   "id": "e82fe969",
   "metadata": {},
   "outputs": [],
   "source": [
    "# для сравнения значений F-меры\n",
    "F_measure = {'LogisticRegression':0, \n",
    "             'KNeighborsClassifier':0, \n",
    "             'DecisionTreeClassifier':0,\n",
    "             'RandomForestClassifier':0 }"
   ]
  },
  {
   "cell_type": "markdown",
   "id": "ea857f75",
   "metadata": {},
   "source": [
    "Логистическая регрессия"
   ]
  },
  {
   "cell_type": "code",
   "execution_count": 21,
   "id": "a3eb1c89",
   "metadata": {},
   "outputs": [],
   "source": [
    "# Стандартизируем данные\n",
    "\n",
    "Log = LogisticRegression()\n",
    "scaler = StandardScaler()\n",
    "X_train_M = scaler.fit_transform(X_train)\n",
    "X_test_M = scaler.transform(X_test)"
   ]
  },
  {
   "cell_type": "code",
   "execution_count": 23,
   "id": "dc42c29e",
   "metadata": {},
   "outputs": [],
   "source": [
    "# обучение\n",
    "\n",
    "model_Log = LogisticRegression()\n",
    "    \n",
    "model_Log.fit(X_train_M, Y_train)\n",
    "Y_Log = model_Log.predict(X_test_M)\n",
    "\n",
    "F_measure['LogisticRegression'] = f1_score(Y_test, Y_Log, average = \"weighted\")"
   ]
  },
  {
   "cell_type": "markdown",
   "id": "a4378040",
   "metadata": {},
   "source": [
    "K-соседей"
   ]
  },
  {
   "cell_type": "code",
   "execution_count": 24,
   "id": "8e36fe62",
   "metadata": {},
   "outputs": [],
   "source": [
    "# Стандартизируем данные\n",
    "\n",
    "from sklearn.pipeline import Pipeline\n",
    "from sklearn.preprocessing import StandardScaler\n",
    "\n",
    "KNN = KNeighborsClassifier()\n",
    "scaler = StandardScaler()\n",
    "\n",
    "steps_KNN = [('normalizer', scaler), ('KNN', KNN)]\n",
    "pipe_KNN = Pipeline(steps_KNN)"
   ]
  },
  {
   "cell_type": "code",
   "execution_count": 25,
   "id": "458944dd",
   "metadata": {},
   "outputs": [],
   "source": [
    "# обучение\n",
    "\n",
    "model_KNN = KNeighborsClassifier()\n",
    "model_KNN.fit(X_train, Y_train)\n",
    "Y_KNN = model_KNN.predict(X_test)\n",
    "\n",
    "F_measure['KNeighborsClassifier'] = f1_score(Y_test, Y_KNN, average = \"weighted\")"
   ]
  },
  {
   "cell_type": "markdown",
   "id": "f6fc6aa4",
   "metadata": {},
   "source": [
    "DecisionTreeClassifier"
   ]
  },
  {
   "cell_type": "code",
   "execution_count": 26,
   "id": "6a6d42fc",
   "metadata": {},
   "outputs": [],
   "source": [
    "# Стандартизируем данные\n",
    "\n",
    "DTC = DecisionTreeClassifier()\n",
    "scaler = StandardScaler()\n",
    "\n",
    "steps_DTC = [('normalizer', scaler), ('DTC', DTC)]\n",
    "pipe_DTC = Pipeline(steps_DTC)"
   ]
  },
  {
   "cell_type": "code",
   "execution_count": 27,
   "id": "5edee49d",
   "metadata": {},
   "outputs": [],
   "source": [
    "# обучение\n",
    "\n",
    "model_DTC = DecisionTreeClassifier()\n",
    "model_DTC.fit(X_train, Y_train)\n",
    "Y_DTC = model_DTC.predict(X_test)\n",
    "\n",
    "F_measure['DecisionTreeClassifier'] = f1_score(Y_test, Y_DTC, average = \"weighted\")"
   ]
  },
  {
   "cell_type": "markdown",
   "id": "f82d310d",
   "metadata": {},
   "source": [
    "RandomForestClassifier"
   ]
  },
  {
   "cell_type": "code",
   "execution_count": 28,
   "id": "ee450780",
   "metadata": {},
   "outputs": [],
   "source": [
    "# Стандартизируем данные\n",
    "\n",
    "RFC = RandomForestClassifier()\n",
    "scaler = StandardScaler()\n",
    "\n",
    "steps_RFC = [('normalizer', scaler), ('RFC', RFC)]\n",
    "pipe_RFC = Pipeline(steps_RFC)"
   ]
  },
  {
   "cell_type": "code",
   "execution_count": 29,
   "id": "8ce875f8",
   "metadata": {},
   "outputs": [],
   "source": [
    "# обучение\n",
    "\n",
    "model_RFC = RandomForestClassifier()\n",
    "model_RFC.fit(X_train, Y_train)\n",
    "Y_RFC = model_RFC.predict(X_test)\n",
    "\n",
    "F_measure['RandomForestClassifier'] = f1_score(Y_test, Y_RFC, average = \"weighted\")"
   ]
  },
  {
   "cell_type": "code",
   "execution_count": 30,
   "id": "cfa9e2b2",
   "metadata": {},
   "outputs": [
    {
     "name": "stdout",
     "output_type": "stream",
     "text": [
      "Наибольшее значение F-меры: 0.9966666666666667 .  Модель: LogisticRegression\n"
     ]
    }
   ],
   "source": [
    "maxim = 0\n",
    "\n",
    "for i, j in F_measure.items():\n",
    "\n",
    "    if j > maxim:\n",
    "        maxim = j\n",
    "        model_max = i\n",
    "print ('Наибольшее значение F-меры:', maxim, '.  Модель:', model_max)\n"
   ]
  },
  {
   "cell_type": "markdown",
   "id": "64d7c275",
   "metadata": {},
   "source": [
    "#### 2.1. Максимально логичным образом обучить качественную модель, использующую для работы только 10 признаков из всего исходного множества."
   ]
  },
  {
   "cell_type": "markdown",
   "id": "0f188423",
   "metadata": {},
   "source": [
    "#### 2.1.1 Отбор наиболее информативных признаков для различных моделей при помощи графика с важностью коэфициентов"
   ]
  },
  {
   "cell_type": "code",
   "execution_count": 31,
   "id": "5b85dc41",
   "metadata": {},
   "outputs": [],
   "source": [
    "# Функция для вывода графика с важностью коэфициентов при соответствующих признаках\n",
    "\n",
    "def barh_plot(model, X_data):\n",
    "    attribute = X_data.columns.values\n",
    "    importance = model.coef_\n",
    "    list1 = np.vstack([importance, attribute]).T\n",
    "    list2 = pd.DataFrame(data = {'importance': importance, 'attribute': X_data.columns, }).sort_values(by = 'importance')\n",
    "    print(list2)\n",
    "    sns.barplot(data = list2, y = 'attribute', x = 'importance')\n"
   ]
  },
  {
   "cell_type": "markdown",
   "id": "5e20c089",
   "metadata": {},
   "source": [
    "Линейная регрессия"
   ]
  },
  {
   "cell_type": "code",
   "execution_count": 32,
   "id": "09aaac0a",
   "metadata": {},
   "outputs": [],
   "source": [
    "model_regress = LinearRegression()\n",
    "model_regress.fit(X_train, Y_train)\n",
    "pred_train = model_regress.predict(X_train)\n",
    "pred_test = model_regress.predict(X_test)"
   ]
  },
  {
   "cell_type": "code",
   "execution_count": 33,
   "id": "a0bb624f",
   "metadata": {},
   "outputs": [
    {
     "name": "stdout",
     "output_type": "stream",
     "text": [
      "      importance                        attribute\n",
      "7  -8.955189e-01                      is_verified\n",
      "13 -9.621046e-02               listed_growth_rate\n",
      "11 -2.185308e-02              friends_growth_rate\n",
      "16 -1.262508e-02        num_digits_in_screen_name\n",
      "6  -6.866026e-03  is_profile_use_background_image\n",
      "12 -3.157311e-03           favourites_growth_rate\n",
      "15 -3.771043e-04               screen_name_length\n",
      "17 -3.357340e-04                   length_of_name\n",
      "8  -3.042522e-05                         user_age\n",
      "19 -2.958058e-05               description_length\n",
      "1  -3.183036e-08                  followers_count\n",
      "0   3.938367e-08                   statuses_count\n",
      "14  7.486098e-08          followers_friends_ratio\n",
      "3   7.710196e-07                 favourites_count\n",
      "2   5.167443e-06                    friends_count\n",
      "4   1.958196e-05                     listed_count\n",
      "18  7.766610e-05               num_digits_in_name\n",
      "10  1.467319e-04            followers_growth_rate\n",
      "9   2.275422e-04                      tweets_freq\n",
      "5   8.791289e-03               is_default_profile\n"
     ]
    },
    {
     "data": {
      "image/png": "[encoded data removed]",
      "text/plain": [
       "<Figure size 432x288 with 1 Axes>"
      ]
     },
     "metadata": {
      "needs_background": "light"
     },
     "output_type": "display_data"
    }
   ],
   "source": [
    "barh_plot(model_regress, X_train)"
   ]
  },
  {
   "cell_type": "markdown",
   "id": "7fb1cb75",
   "metadata": {},
   "source": [
    "Модель Lasso"
   ]
  },
  {
   "cell_type": "code",
   "execution_count": 34,
   "id": "d3619918",
   "metadata": {},
   "outputs": [],
   "source": [
    "model_lasso = Lasso()\n",
    "model_lasso.fit(X_train, Y_train)\n",
    "pred_lasso_train = model_lasso.predict(X_train)\n",
    "pred_lasso_test = model_lasso.predict(X_test)"
   ]
  },
  {
   "cell_type": "code",
   "execution_count": 35,
   "id": "6b7ed875",
   "metadata": {},
   "outputs": [
    {
     "name": "stdout",
     "output_type": "stream",
     "text": [
      "      importance                        attribute\n",
      "8  -2.879077e-04                         user_age\n",
      "3  -1.558882e-06                 favourites_count\n",
      "2  -7.663600e-07                    friends_count\n",
      "1  -3.392450e-08                  followers_count\n",
      "9  -0.000000e+00                      tweets_freq\n",
      "17 -0.000000e+00                   length_of_name\n",
      "16 -0.000000e+00        num_digits_in_screen_name\n",
      "15 -0.000000e+00               screen_name_length\n",
      "13 -0.000000e+00               listed_growth_rate\n",
      "12 -0.000000e+00           favourites_growth_rate\n",
      "11 -0.000000e+00              friends_growth_rate\n",
      "19 -0.000000e+00               description_length\n",
      "18  0.000000e+00               num_digits_in_name\n",
      "7  -0.000000e+00                      is_verified\n",
      "6  -0.000000e+00  is_profile_use_background_image\n",
      "5   0.000000e+00               is_default_profile\n",
      "10 -0.000000e+00            followers_growth_rate\n",
      "14  4.433575e-07          followers_friends_ratio\n",
      "0   6.044801e-07                   statuses_count\n",
      "4   6.580983e-06                     listed_count\n"
     ]
    },
    {
     "data": {
      "image/png": "[encoded data removed]",
      "text/plain": [
       "<Figure size 432x288 with 1 Axes>"
      ]
     },
     "metadata": {
      "needs_background": "light"
     },
     "output_type": "display_data"
    }
   ],
   "source": [
    "barh_plot(model_lasso, X_train)"
   ]
  },
  {
   "cell_type": "markdown",
   "id": "03f35a77",
   "metadata": {},
   "source": [
    "Модель Ridge"
   ]
  },
  {
   "cell_type": "code",
   "execution_count": 36,
   "id": "492622d5",
   "metadata": {},
   "outputs": [],
   "source": [
    "model_ridge = Ridge(alpha = 0.04)\n",
    "model_ridge.fit(X_train, Y_train)\n",
    "pred_ridge_train = model_ridge.predict(X_train)\n",
    "pred_ridge_test = model_ridge.predict(X_test)"
   ]
  },
  {
   "cell_type": "code",
   "execution_count": 37,
   "id": "0e43275b",
   "metadata": {},
   "outputs": [
    {
     "name": "stdout",
     "output_type": "stream",
     "text": [
      "      importance                        attribute\n",
      "7  -8.951533e-01                      is_verified\n",
      "13 -9.510712e-02               listed_growth_rate\n",
      "11 -2.189746e-02              friends_growth_rate\n",
      "16 -1.262239e-02        num_digits_in_screen_name\n",
      "6  -6.885744e-03  is_profile_use_background_image\n",
      "12 -3.176130e-03           favourites_growth_rate\n",
      "15 -3.788321e-04               screen_name_length\n",
      "17 -3.356178e-04                   length_of_name\n",
      "8  -3.053554e-05                         user_age\n",
      "19 -2.968641e-05               description_length\n",
      "1  -3.089191e-08                  followers_count\n",
      "0   3.953364e-08                   statuses_count\n",
      "14  7.401649e-08          followers_friends_ratio\n",
      "3   7.755259e-07                 favourites_count\n",
      "2   5.177567e-06                    friends_count\n",
      "4   1.934439e-05                     listed_count\n",
      "18  8.468326e-05               num_digits_in_name\n",
      "10  1.425902e-04            followers_growth_rate\n",
      "9   2.276151e-04                      tweets_freq\n",
      "5   8.807424e-03               is_default_profile\n"
     ]
    },
    {
     "data": {
      "image/png": "[encoded data removed]",
      "text/plain": [
       "<Figure size 432x288 with 1 Axes>"
      ]
     },
     "metadata": {
      "needs_background": "light"
     },
     "output_type": "display_data"
    }
   ],
   "source": [
    "barh_plot(model_ridge, X_train)"
   ]
  },
  {
   "cell_type": "markdown",
   "id": "beac8edc",
   "metadata": {},
   "source": [
    "Модель ElasticNet"
   ]
  },
  {
   "cell_type": "code",
   "execution_count": 38,
   "id": "4724d657",
   "metadata": {},
   "outputs": [],
   "source": [
    "model_elastic = ElasticNet()"
   ]
  },
  {
   "cell_type": "code",
   "execution_count": 39,
   "id": "2405fdba",
   "metadata": {},
   "outputs": [],
   "source": [
    "model_elastic.fit(X_train, Y_train)\n",
    "pred_train = model_elastic.predict(X_train)\n",
    "pred_test = model_elastic.predict(X_test)"
   ]
  },
  {
   "cell_type": "code",
   "execution_count": 40,
   "id": "0c11305c",
   "metadata": {},
   "outputs": [
    {
     "name": "stdout",
     "output_type": "stream",
     "text": [
      "      importance                        attribute\n",
      "10 -5.600938e-04            followers_growth_rate\n",
      "8  -2.876259e-04                         user_age\n",
      "19 -5.903479e-05               description_length\n",
      "3  -1.530950e-06                 favourites_count\n",
      "2  -6.811206e-07                    friends_count\n",
      "17 -0.000000e+00                   length_of_name\n",
      "16 -0.000000e+00        num_digits_in_screen_name\n",
      "15 -0.000000e+00               screen_name_length\n",
      "13 -0.000000e+00               listed_growth_rate\n",
      "12 -0.000000e+00           favourites_growth_rate\n",
      "11 -0.000000e+00              friends_growth_rate\n",
      "9  -0.000000e+00                      tweets_freq\n",
      "7  -0.000000e+00                      is_verified\n",
      "6  -0.000000e+00  is_profile_use_background_image\n",
      "5   0.000000e+00               is_default_profile\n",
      "18  0.000000e+00               num_digits_in_name\n",
      "1   9.651121e-08                  followers_count\n",
      "14  5.615177e-07          followers_friends_ratio\n",
      "0   5.984563e-07                   statuses_count\n",
      "4   3.799763e-06                     listed_count\n"
     ]
    },
    {
     "data": {
      "image/png": "[encoded data removed]",
      "text/plain": [
       "<Figure size 432x288 with 1 Axes>"
      ]
     },
     "metadata": {
      "needs_background": "light"
     },
     "output_type": "display_data"
    }
   ],
   "source": [
    "barh_plot(model_elastic, X_train)"
   ]
  },
  {
   "cell_type": "markdown",
   "id": "05c2d78e",
   "metadata": {},
   "source": [
    "Убираем 10 наименее информативных"
   ]
  },
  {
   "cell_type": "code",
   "execution_count": 41,
   "id": "c287360a",
   "metadata": {},
   "outputs": [
    {
     "data": {
      "text/html": [
       "<div>\n",
       "<style scoped>\n",
       "    .dataframe tbody tr th:only-of-type {\n",
       "        vertical-align: middle;\n",
       "    }\n",
       "\n",
       "    .dataframe tbody tr th {\n",
       "        vertical-align: top;\n",
       "    }\n",
       "\n",
       "    .dataframe thead th {\n",
       "        text-align: right;\n",
       "    }\n",
       "</style>\n",
       "<table border=\"1\" class=\"dataframe\">\n",
       "  <thead>\n",
       "    <tr style=\"text-align: right;\">\n",
       "      <th></th>\n",
       "      <th>statuses_count</th>\n",
       "      <th>followers_count</th>\n",
       "      <th>friends_count</th>\n",
       "      <th>favourites_count</th>\n",
       "      <th>listed_count</th>\n",
       "      <th>is_default_profile</th>\n",
       "      <th>tweets_freq</th>\n",
       "      <th>followers_growth_rate</th>\n",
       "      <th>followers_friends_ratio</th>\n",
       "      <th>num_digits_in_name</th>\n",
       "      <th>is_bot</th>\n",
       "    </tr>\n",
       "  </thead>\n",
       "  <tbody>\n",
       "    <tr>\n",
       "      <th>0</th>\n",
       "      <td>5124</td>\n",
       "      <td>6641</td>\n",
       "      <td>3074</td>\n",
       "      <td>13768</td>\n",
       "      <td>126</td>\n",
       "      <td>0</td>\n",
       "      <td>1.890077</td>\n",
       "      <td>2.449650</td>\n",
       "      <td>2.160377</td>\n",
       "      <td>0</td>\n",
       "      <td>0</td>\n",
       "    </tr>\n",
       "    <tr>\n",
       "      <th>1</th>\n",
       "      <td>10672</td>\n",
       "      <td>8465</td>\n",
       "      <td>1575</td>\n",
       "      <td>4561</td>\n",
       "      <td>191</td>\n",
       "      <td>0</td>\n",
       "      <td>2.412297</td>\n",
       "      <td>1.913427</td>\n",
       "      <td>5.374603</td>\n",
       "      <td>0</td>\n",
       "      <td>0</td>\n",
       "    </tr>\n",
       "    <tr>\n",
       "      <th>2</th>\n",
       "      <td>704</td>\n",
       "      <td>3108</td>\n",
       "      <td>454</td>\n",
       "      <td>2400</td>\n",
       "      <td>77</td>\n",
       "      <td>0</td>\n",
       "      <td>0.518409</td>\n",
       "      <td>2.288660</td>\n",
       "      <td>6.845815</td>\n",
       "      <td>0</td>\n",
       "      <td>0</td>\n",
       "    </tr>\n",
       "    <tr>\n",
       "      <th>3</th>\n",
       "      <td>6091</td>\n",
       "      <td>304528</td>\n",
       "      <td>526</td>\n",
       "      <td>599</td>\n",
       "      <td>1515</td>\n",
       "      <td>0</td>\n",
       "      <td>1.445420</td>\n",
       "      <td>72.265781</td>\n",
       "      <td>578.950570</td>\n",
       "      <td>0</td>\n",
       "      <td>0</td>\n",
       "    </tr>\n",
       "    <tr>\n",
       "      <th>4</th>\n",
       "      <td>12967</td>\n",
       "      <td>13693</td>\n",
       "      <td>204</td>\n",
       "      <td>1177</td>\n",
       "      <td>452</td>\n",
       "      <td>0</td>\n",
       "      <td>4.052187</td>\n",
       "      <td>4.279063</td>\n",
       "      <td>67.122549</td>\n",
       "      <td>0</td>\n",
       "      <td>0</td>\n",
       "    </tr>\n",
       "  </tbody>\n",
       "</table>\n",
       "</div>"
      ],
      "text/plain": [
       "   statuses_count  followers_count  friends_count  favourites_count  \\\n",
       "0            5124             6641           3074             13768   \n",
       "1           10672             8465           1575              4561   \n",
       "2             704             3108            454              2400   \n",
       "3            6091           304528            526               599   \n",
       "4           12967            13693            204              1177   \n",
       "\n",
       "   listed_count  is_default_profile  tweets_freq  followers_growth_rate  \\\n",
       "0           126                   0     1.890077               2.449650   \n",
       "1           191                   0     2.412297               1.913427   \n",
       "2            77                   0     0.518409               2.288660   \n",
       "3          1515                   0     1.445420              72.265781   \n",
       "4           452                   0     4.052187               4.279063   \n",
       "\n",
       "   followers_friends_ratio  num_digits_in_name  is_bot  \n",
       "0                 2.160377                   0       0  \n",
       "1                 5.374603                   0       0  \n",
       "2                 6.845815                   0       0  \n",
       "3               578.950570                   0       0  \n",
       "4                67.122549                   0       0  "
      ]
     },
     "execution_count": 41,
     "metadata": {},
     "output_type": "execute_result"
    }
   ],
   "source": [
    "df_new = df1.drop('is_verified', axis=1)\n",
    "df_new = df_new.drop('user_age', axis=1)\n",
    "df_new = df_new.drop('description_length', axis=1)\n",
    "df_new = df_new.drop('listed_growth_rate', axis=1)\n",
    "df_new = df_new.drop('friends_growth_rate', axis=1)\n",
    "df_new = df_new.drop('num_digits_in_screen_name', axis=1)\n",
    "df_new = df_new.drop('is_profile_use_background_image', axis=1)\n",
    "df_new = df_new.drop('favourites_growth_rate', axis=1)\n",
    "df_new = df_new.drop('screen_name_length', axis=1)\n",
    "df_new = df_new.drop('length_of_name', axis=1)\n",
    "\n",
    "df_new.head()"
   ]
  },
  {
   "cell_type": "code",
   "execution_count": 42,
   "id": "67ec84c3",
   "metadata": {},
   "outputs": [
    {
     "data": {
      "text/plain": [
       "<AxesSubplot:>"
      ]
     },
     "execution_count": 42,
     "metadata": {},
     "output_type": "execute_result"
    },
    {
     "data": {
      "image/png": "[encoded data removed]",
      "text/plain": [
       "<Figure size 1080x1080 with 2 Axes>"
      ]
     },
     "metadata": {
      "needs_background": "light"
     },
     "output_type": "display_data"
    }
   ],
   "source": [
    "fig, ax = plt.subplots(figsize=(15,15))\n",
    "sns.heatmap(df_new.corr(), cmap = \"mako\")"
   ]
  },
  {
   "cell_type": "markdown",
   "id": "3f22fef4",
   "metadata": {},
   "source": [
    "#### 2.1.2 Отбор наиболее информативных признаков при помощи SelectKBest и Extra Tree Classifier"
   ]
  },
  {
   "cell_type": "code",
   "execution_count": 43,
   "id": "3de41fdb",
   "metadata": {},
   "outputs": [
    {
     "data": {
      "text/html": [
       "<div>\n",
       "<style scoped>\n",
       "    .dataframe tbody tr th:only-of-type {\n",
       "        vertical-align: middle;\n",
       "    }\n",
       "\n",
       "    .dataframe tbody tr th {\n",
       "        vertical-align: top;\n",
       "    }\n",
       "\n",
       "    .dataframe thead th {\n",
       "        text-align: right;\n",
       "    }\n",
       "</style>\n",
       "<table border=\"1\" class=\"dataframe\">\n",
       "  <thead>\n",
       "    <tr style=\"text-align: right;\">\n",
       "      <th></th>\n",
       "      <th>chi2_score</th>\n",
       "      <th>number</th>\n",
       "    </tr>\n",
       "  </thead>\n",
       "  <tbody>\n",
       "    <tr>\n",
       "      <th>followers_count</th>\n",
       "      <td>6.568911e+07</td>\n",
       "      <td>1</td>\n",
       "    </tr>\n",
       "    <tr>\n",
       "      <th>followers_friends_ratio</th>\n",
       "      <td>9.749806e+06</td>\n",
       "      <td>14</td>\n",
       "    </tr>\n",
       "    <tr>\n",
       "      <th>favourites_count</th>\n",
       "      <td>8.109731e+06</td>\n",
       "      <td>3</td>\n",
       "    </tr>\n",
       "    <tr>\n",
       "      <th>statuses_count</th>\n",
       "      <td>2.747301e+06</td>\n",
       "      <td>0</td>\n",
       "    </tr>\n",
       "    <tr>\n",
       "      <th>friends_count</th>\n",
       "      <td>1.388549e+06</td>\n",
       "      <td>2</td>\n",
       "    </tr>\n",
       "  </tbody>\n",
       "</table>\n",
       "</div>"
      ],
      "text/plain": [
       "                           chi2_score  number\n",
       "followers_count          6.568911e+07       1\n",
       "followers_friends_ratio  9.749806e+06      14\n",
       "favourites_count         8.109731e+06       3\n",
       "statuses_count           2.747301e+06       0\n",
       "friends_count            1.388549e+06       2"
      ]
     },
     "execution_count": 43,
     "metadata": {},
     "output_type": "execute_result"
    }
   ],
   "source": [
    "# При помощи SelectKBest. DataFrame с признаками и их информативностью, отсортированный по убыванию\n",
    "K = 20\n",
    "best_features1 = SelectKBest(score_func=chi2, k=K)\n",
    "fit = best_features1.fit(X.values, Y.values)\n",
    "best_features1 = pd.DataFrame(data=fit.scores_, index = X.columns, columns=['chi2_score'])\n",
    "best_features1['number'] = pd.Series(range(X.shape[1]), index = best_features1.index)\n",
    "sel_best = best_features1.nlargest(K, 'chi2_score')\n",
    "sel_best.head()"
   ]
  },
  {
   "cell_type": "code",
   "execution_count": 44,
   "id": "8f5f21f6",
   "metadata": {},
   "outputs": [
    {
     "data": {
      "text/html": [
       "<div>\n",
       "<style scoped>\n",
       "    .dataframe tbody tr th:only-of-type {\n",
       "        vertical-align: middle;\n",
       "    }\n",
       "\n",
       "    .dataframe tbody tr th {\n",
       "        vertical-align: top;\n",
       "    }\n",
       "\n",
       "    .dataframe thead th {\n",
       "        text-align: right;\n",
       "    }\n",
       "</style>\n",
       "<table border=\"1\" class=\"dataframe\">\n",
       "  <thead>\n",
       "    <tr style=\"text-align: right;\">\n",
       "      <th></th>\n",
       "      <th>feature_importance</th>\n",
       "      <th>number</th>\n",
       "    </tr>\n",
       "  </thead>\n",
       "  <tbody>\n",
       "    <tr>\n",
       "      <th>is_verified</th>\n",
       "      <td>0.636769</td>\n",
       "      <td>7</td>\n",
       "    </tr>\n",
       "    <tr>\n",
       "      <th>user_age</th>\n",
       "      <td>0.168507</td>\n",
       "      <td>8</td>\n",
       "    </tr>\n",
       "    <tr>\n",
       "      <th>is_profile_use_background_image</th>\n",
       "      <td>0.034982</td>\n",
       "      <td>6</td>\n",
       "    </tr>\n",
       "    <tr>\n",
       "      <th>is_default_profile</th>\n",
       "      <td>0.031551</td>\n",
       "      <td>5</td>\n",
       "    </tr>\n",
       "    <tr>\n",
       "      <th>friends_growth_rate</th>\n",
       "      <td>0.020664</td>\n",
       "      <td>11</td>\n",
       "    </tr>\n",
       "  </tbody>\n",
       "</table>\n",
       "</div>"
      ],
      "text/plain": [
       "                                 feature_importance  number\n",
       "is_verified                                0.636769       7\n",
       "user_age                                   0.168507       8\n",
       "is_profile_use_background_image            0.034982       6\n",
       "is_default_profile                         0.031551       5\n",
       "friends_growth_rate                        0.020664      11"
      ]
     },
     "execution_count": 44,
     "metadata": {},
     "output_type": "execute_result"
    }
   ],
   "source": [
    "# При помощи ExtraTreesClassifier. DataFrame с признаками и их информативностью, отсортированный по убыванию\n",
    "model2 = ExtraTreesClassifier()\n",
    "model2 = model2.fit(X.values, Y.values.ravel())\n",
    "best_features2 = pd.DataFrame(data = model2.feature_importances_, index = X.columns, columns=['feature_importance'])\n",
    "best_features2['number'] = pd.Series(range(X.shape[1]), index = best_features2.index)\n",
    "ex_trees = best_features2.nlargest(K, 'feature_importance')\n",
    "ex_trees.head()"
   ]
  },
  {
   "cell_type": "code",
   "execution_count": 45,
   "id": "2b7cfe6b",
   "metadata": {},
   "outputs": [],
   "source": [
    "# Отбираем лучшие по обоим методам\n",
    "list_best_number = []\n",
    "for i in sel_best['number']:\n",
    "    for j in ex_trees['number']:\n",
    "        if i == j:\n",
    "            list_best_number.append(i)"
   ]
  },
  {
   "cell_type": "code",
   "execution_count": 46,
   "id": "fbc336ea",
   "metadata": {},
   "outputs": [
    {
     "data": {
      "text/plain": [
       "[7, 11, 9, 5, 13, 6, 15, 18, 17, 16]"
      ]
     },
     "execution_count": 46,
     "metadata": {},
     "output_type": "execute_result"
    }
   ],
   "source": [
    "# оставим 10 лучших\n",
    "list_bad = list_best_number[10:]\n",
    "list_bad"
   ]
  },
  {
   "cell_type": "code",
   "execution_count": 47,
   "id": "166015c2",
   "metadata": {},
   "outputs": [],
   "source": [
    "df_best = df1.copy()\n",
    "df_best = df_best.drop(df_best.columns[list_bad], axis = 1)"
   ]
  },
  {
   "cell_type": "code",
   "execution_count": 48,
   "id": "7e166c68",
   "metadata": {},
   "outputs": [
    {
     "data": {
      "text/html": [
       "<div>\n",
       "<style scoped>\n",
       "    .dataframe tbody tr th:only-of-type {\n",
       "        vertical-align: middle;\n",
       "    }\n",
       "\n",
       "    .dataframe tbody tr th {\n",
       "        vertical-align: top;\n",
       "    }\n",
       "\n",
       "    .dataframe thead th {\n",
       "        text-align: right;\n",
       "    }\n",
       "</style>\n",
       "<table border=\"1\" class=\"dataframe\">\n",
       "  <thead>\n",
       "    <tr style=\"text-align: right;\">\n",
       "      <th></th>\n",
       "      <th>statuses_count</th>\n",
       "      <th>followers_count</th>\n",
       "      <th>friends_count</th>\n",
       "      <th>favourites_count</th>\n",
       "      <th>listed_count</th>\n",
       "      <th>user_age</th>\n",
       "      <th>followers_growth_rate</th>\n",
       "      <th>favourites_growth_rate</th>\n",
       "      <th>followers_friends_ratio</th>\n",
       "      <th>description_length</th>\n",
       "      <th>is_bot</th>\n",
       "    </tr>\n",
       "  </thead>\n",
       "  <tbody>\n",
       "    <tr>\n",
       "      <th>0</th>\n",
       "      <td>5124</td>\n",
       "      <td>6641</td>\n",
       "      <td>3074</td>\n",
       "      <td>13768</td>\n",
       "      <td>126</td>\n",
       "      <td>2711</td>\n",
       "      <td>2.449650</td>\n",
       "      <td>5.078569</td>\n",
       "      <td>2.160377</td>\n",
       "      <td>73</td>\n",
       "      <td>0</td>\n",
       "    </tr>\n",
       "    <tr>\n",
       "      <th>1</th>\n",
       "      <td>10672</td>\n",
       "      <td>8465</td>\n",
       "      <td>1575</td>\n",
       "      <td>4561</td>\n",
       "      <td>191</td>\n",
       "      <td>4424</td>\n",
       "      <td>1.913427</td>\n",
       "      <td>1.030967</td>\n",
       "      <td>5.374603</td>\n",
       "      <td>142</td>\n",
       "      <td>0</td>\n",
       "    </tr>\n",
       "    <tr>\n",
       "      <th>2</th>\n",
       "      <td>704</td>\n",
       "      <td>3108</td>\n",
       "      <td>454</td>\n",
       "      <td>2400</td>\n",
       "      <td>77</td>\n",
       "      <td>1358</td>\n",
       "      <td>2.288660</td>\n",
       "      <td>1.767305</td>\n",
       "      <td>6.845815</td>\n",
       "      <td>90</td>\n",
       "      <td>0</td>\n",
       "    </tr>\n",
       "    <tr>\n",
       "      <th>3</th>\n",
       "      <td>6091</td>\n",
       "      <td>304528</td>\n",
       "      <td>526</td>\n",
       "      <td>599</td>\n",
       "      <td>1515</td>\n",
       "      <td>4214</td>\n",
       "      <td>72.265781</td>\n",
       "      <td>0.142145</td>\n",
       "      <td>578.950570</td>\n",
       "      <td>51</td>\n",
       "      <td>0</td>\n",
       "    </tr>\n",
       "    <tr>\n",
       "      <th>4</th>\n",
       "      <td>12967</td>\n",
       "      <td>13693</td>\n",
       "      <td>204</td>\n",
       "      <td>1177</td>\n",
       "      <td>452</td>\n",
       "      <td>3200</td>\n",
       "      <td>4.279063</td>\n",
       "      <td>0.367812</td>\n",
       "      <td>67.122549</td>\n",
       "      <td>106</td>\n",
       "      <td>0</td>\n",
       "    </tr>\n",
       "  </tbody>\n",
       "</table>\n",
       "</div>"
      ],
      "text/plain": [
       "   statuses_count  followers_count  friends_count  favourites_count  \\\n",
       "0            5124             6641           3074             13768   \n",
       "1           10672             8465           1575              4561   \n",
       "2             704             3108            454              2400   \n",
       "3            6091           304528            526               599   \n",
       "4           12967            13693            204              1177   \n",
       "\n",
       "   listed_count  user_age  followers_growth_rate  favourites_growth_rate  \\\n",
       "0           126      2711               2.449650                5.078569   \n",
       "1           191      4424               1.913427                1.030967   \n",
       "2            77      1358               2.288660                1.767305   \n",
       "3          1515      4214              72.265781                0.142145   \n",
       "4           452      3200               4.279063                0.367812   \n",
       "\n",
       "   followers_friends_ratio  description_length  is_bot  \n",
       "0                 2.160377                  73       0  \n",
       "1                 5.374603                 142       0  \n",
       "2                 6.845815                  90       0  \n",
       "3               578.950570                  51       0  \n",
       "4                67.122549                 106       0  "
      ]
     },
     "execution_count": 48,
     "metadata": {},
     "output_type": "execute_result"
    }
   ],
   "source": [
    "df_best.head()"
   ]
  },
  {
   "cell_type": "code",
   "execution_count": 49,
   "id": "b24b05e0",
   "metadata": {},
   "outputs": [
    {
     "data": {
      "text/plain": [
       "<AxesSubplot:>"
      ]
     },
     "execution_count": 49,
     "metadata": {},
     "output_type": "execute_result"
    },
    {
     "data": {
      "image/png": "[encoded data removed]",
      "text/plain": [
       "<Figure size 1080x1080 with 2 Axes>"
      ]
     },
     "metadata": {
      "needs_background": "light"
     },
     "output_type": "display_data"
    }
   ],
   "source": [
    "fig, ax = plt.subplots(figsize=(15,15))\n",
    "sns.heatmap(df_best.corr(), cmap = \"mako\")"
   ]
  },
  {
   "cell_type": "code",
   "execution_count": 50,
   "id": "728df6e2",
   "metadata": {},
   "outputs": [],
   "source": [
    "#sns.pairplot(df_best, hue = 'is_bot')"
   ]
  },
  {
   "cell_type": "markdown",
   "id": "fc2dc00a",
   "metadata": {},
   "source": [
    "#### 2.2. Обучить модель, обеспечивающую вероятность пропуска бота на уровне не выше 0.03, и имеющую насколько возможно низкую вероятность ложного обнаружения."
   ]
  },
  {
   "cell_type": "markdown",
   "id": "1d34c394",
   "metadata": {},
   "source": [
    "Метрики:\n",
    "\n",
    "\n",
    "Accuracy = (TP + TN)/(TP + TN + FP + FN)\n",
    "\n",
    "Precision = TP/(TP + FP)\n",
    "\n",
    "Recall =  TP/(TP + FN)\n",
    "\n",
    "\n",
    "Можно через матрицу ошибок:\n",
    "\n",
    "\n",
    "- TP (true positive, истинно положительные, объект верно отнесён к данному классу) - сумма диагональных элементов\n",
    "- FP (false positive, ложно положительные, объект неверно отнесён к данному классу) - это сумма соответствующего столбца, за вычетом диагонального элемента\n",
    "- TN (true negative, истинно отрицательные, верно определено, что объект не принадлежит к данному классу) - удалить соответствующие столбец и строку из матрицы, а затем суммировать все остальные элементы\n",
    "- FN (false negative, ложно отрицательные, неверно определено, что объект не принадлежит к данному классу) - сумму соответствующей строки, за вычетом диагонального элемента\n"
   ]
  },
  {
   "cell_type": "markdown",
   "id": "ad96f64b",
   "metadata": {},
   "source": [
    "- Ложное обнаружение - ошибка 1 рода (Type I Error) - объект ошибочно относится к положительному классу ( = FP / количество в тестовой выборке).\n",
    "\n",
    "- Пропуск бота - ошибка 2 рода (Type II Error) - объект ошибочно относится к отрицательному классу ( = FN / количество в тестовой выборке).\n",
    "\n"
   ]
  },
  {
   "cell_type": "code",
   "execution_count": 51,
   "id": "53988df2",
   "metadata": {},
   "outputs": [],
   "source": [
    "# для сравнения ошибок первого и второго рода\n",
    "Error_I = {'LogisticRegression':0, \n",
    "             'KNeighborsClassifier':0, \n",
    "             'DecisionTreeClassifier':0,\n",
    "             'RandomForestClassifier':0 }\n",
    "\n",
    "\n",
    "Error_II = {'LogisticRegression':0, \n",
    "             'KNeighborsClassifier':0, \n",
    "             'DecisionTreeClassifier':0,\n",
    "             'RandomForestClassifier':0 }"
   ]
  },
  {
   "cell_type": "code",
   "execution_count": 52,
   "id": "0bbd11f7",
   "metadata": {},
   "outputs": [],
   "source": [
    "# Работаем с наиболее \"информативными\" признаками\n",
    "X = df_best.drop('is_bot', axis = 1)\n",
    "Y = df_best.is_bot"
   ]
  },
  {
   "cell_type": "code",
   "execution_count": 53,
   "id": "f0610c1b",
   "metadata": {},
   "outputs": [],
   "source": [
    "X_train, X_test, Y_train, Y_test = train_test_split(X, Y, test_size = 0.25, random_state = 21)"
   ]
  },
  {
   "cell_type": "code",
   "execution_count": 54,
   "id": "ce844f92",
   "metadata": {},
   "outputs": [],
   "source": [
    "# количество в тестовой выборке\n",
    "M = Y_test.shape[0]"
   ]
  },
  {
   "cell_type": "code",
   "execution_count": 55,
   "id": "2234cbe4",
   "metadata": {},
   "outputs": [],
   "source": [
    "# расчет метрик по матрице ошибок\n",
    "\n",
    "def Metrics (conf_mat):\n",
    "    Metrics_list = []\n",
    "    num_classes = 2\n",
    "    \n",
    "    TP = sum(np.diag(conf_mat))\n",
    "        \n",
    "    FP_val = []\n",
    "    for i in range(num_classes):    \n",
    "        FP_val.append(sum(conf_mat[:,i]) - conf_mat[i,i])\n",
    "    FP = sum(FP_val)\n",
    "    \n",
    "    TN_val = []\n",
    "    for i in range(num_classes):\n",
    "        # удаляем i-ю строку\n",
    "        new_matr = np.delete(conf_mat, i, 0)\n",
    "        # удаляем i-й столбец\n",
    "        new_matr = np.delete(new_matr, i, 1)\n",
    "        TN_val.append(sum(sum(new_matr)))    \n",
    "    TN = sum(TN_val)\n",
    "    \n",
    "    FN_val = []\n",
    "    for i in range(num_classes):\n",
    "        FN_val.append(sum(conf_mat[i,:]) - conf_mat[i,i])\n",
    "    FN = (sum(FN_val))\n",
    "    \n",
    "    accur =  (TP+TN)/(TP+TN+FP+FN)\n",
    "    \n",
    "    Metrics_list.append(TP)\n",
    "    Metrics_list.append(FP)\n",
    "    Metrics_list.append(TN)\n",
    "    Metrics_list.append(FN)\n",
    "    Metrics_list.append(accur)\n",
    "    \n",
    "    return Metrics_list"
   ]
  },
  {
   "cell_type": "markdown",
   "id": "3ffb2715",
   "metadata": {},
   "source": [
    "Логистическая регрессия"
   ]
  },
  {
   "cell_type": "code",
   "execution_count": 63,
   "id": "e1d1574c",
   "metadata": {},
   "outputs": [],
   "source": [
    "# Стандартизируем данные\n",
    "\n",
    "Log = LogisticRegression()\n",
    "scaler = StandardScaler()\n",
    "X_train_M = scaler.fit_transform(X_train)\n",
    "X_test_M = scaler.transform(X_test)"
   ]
  },
  {
   "cell_type": "code",
   "execution_count": 64,
   "id": "116daa96",
   "metadata": {},
   "outputs": [],
   "source": [
    "# обучение\n",
    "\n",
    "model_Log = LogisticRegression() \n",
    "model_Log.fit(X_train_M, Y_train)\n",
    "Y_Log = model_Log.predict(X_test_M)"
   ]
  },
  {
   "cell_type": "code",
   "execution_count": 65,
   "id": "22fd5963",
   "metadata": {},
   "outputs": [],
   "source": [
    "conf_mat_Log = confusion_matrix(Y_test, Y_Log)\n",
    "Error_I['LogisticRegression'] = Metrics (conf_mat_Log)[1] / M\n",
    "Error_II['LogisticRegression'] = Metrics (conf_mat_Log)[3] / M"
   ]
  },
  {
   "cell_type": "markdown",
   "id": "5c2c4234",
   "metadata": {},
   "source": [
    "K-соседей"
   ]
  },
  {
   "cell_type": "code",
   "execution_count": 66,
   "id": "e0361312",
   "metadata": {},
   "outputs": [],
   "source": [
    "# Стандартизируем данные\n",
    "\n",
    "KNN = KNeighborsClassifier()\n",
    "scaler = StandardScaler()\n",
    "\n",
    "steps_KNN = [('normalizer', scaler), ('KNN', KNN)]\n",
    "pipe_KNN = Pipeline(steps_KNN)"
   ]
  },
  {
   "cell_type": "code",
   "execution_count": 67,
   "id": "ba02f307",
   "metadata": {},
   "outputs": [
    {
     "data": {
      "text/plain": [
       "{'KNN__algorithm': 'auto', 'KNN__n_neighbors': 5, 'KNN__weights': 'distance'}"
      ]
     },
     "execution_count": 67,
     "metadata": {},
     "output_type": "execute_result"
    }
   ],
   "source": [
    "# С помощью GridSearchCV производим подбор гиперпараметров:\n",
    "# n_neighbors - это количество соседей, которые нужно использовать, \n",
    "# weights - весовая функция,используемая при прогнозировании\n",
    "# algorithm - алгоритм, используемый для вычисления ближайших соседей\n",
    "\n",
    "\n",
    "params_KNN = \\\n",
    "     {'KNN__n_neighbors': np.arange(5, 50), \n",
    "     'KNN__weights': ['uniform', 'distance'], \n",
    "     'KNN__algorithm': ['auto', 'ball_tree', 'kd_tree', 'brute']}\n",
    "\n",
    "grid_search_KNN = GridSearchCV(pipe_KNN, params_KNN)\n",
    "grid_search_KNN.fit(X_train, Y_train)\n",
    "\n",
    "grid_search_KNN.best_params_"
   ]
  },
  {
   "cell_type": "code",
   "execution_count": 68,
   "id": "ac44955d",
   "metadata": {},
   "outputs": [],
   "source": [
    "# Обучаем модель с лучшими параметрами\n",
    "\n",
    "model_KNN = KNeighborsClassifier(algorithm = grid_search_KNN.best_params_['KNN__algorithm'], \n",
    "                                 n_neighbors = grid_search_KNN.best_params_['KNN__n_neighbors'], \n",
    "                                 weights = grid_search_KNN.best_params_['KNN__weights'])\n",
    "model_KNN.fit(X_train, Y_train)\n",
    "Y_KNN = model_KNN.predict(X_test)"
   ]
  },
  {
   "cell_type": "code",
   "execution_count": 69,
   "id": "03e80172",
   "metadata": {},
   "outputs": [],
   "source": [
    "conf_mat_KNN = confusion_matrix(Y_test, Y_KNN)\n",
    "Error_I['KNeighborsClassifier'] = Metrics (conf_mat_KNN)[1] / M\n",
    "Error_II['KNeighborsClassifier'] = Metrics (conf_mat_KNN)[3] / M"
   ]
  },
  {
   "cell_type": "markdown",
   "id": "65c1dfd6",
   "metadata": {},
   "source": [
    "Дерево решений"
   ]
  },
  {
   "cell_type": "code",
   "execution_count": 70,
   "id": "2b24789b",
   "metadata": {},
   "outputs": [],
   "source": [
    "# Стандартизируем данные\n",
    "\n",
    "DTC = DecisionTreeClassifier()\n",
    "scaler = StandardScaler()\n",
    "\n",
    "steps_DTC = [('normalizer', scaler), ('DTC', DTC)]\n",
    "pipe_DTC = Pipeline(steps_DTC)"
   ]
  },
  {
   "cell_type": "code",
   "execution_count": 71,
   "id": "5fcdebd8",
   "metadata": {},
   "outputs": [
    {
     "data": {
      "text/plain": [
       "{'DTC__criterion': 'gini', 'DTC__max_depth': 4, 'DTC__splitter': 'best'}"
      ]
     },
     "execution_count": 71,
     "metadata": {},
     "output_type": "execute_result"
    }
   ],
   "source": [
    "# Подбираем гиперпараметры\n",
    "\n",
    "params_DTC = \\\n",
    "     {'DTC__max_depth': np.arange(1, 10),\n",
    "     'DTC__splitter': ['best', 'random'],\n",
    "     'DTC__criterion': ['gini', 'entropy']}\n",
    "\n",
    "grid_search_DTC = GridSearchCV(pipe_DTC, params_DTC)\n",
    "grid_search_DTC.fit(X_train, Y_train)\n",
    "grid_search_DTC.best_params_\n"
   ]
  },
  {
   "cell_type": "code",
   "execution_count": 72,
   "id": "c95ebb80",
   "metadata": {},
   "outputs": [],
   "source": [
    "# Обучаем модель с лучшими параметрами\n",
    "\n",
    "model_DTC = DecisionTreeClassifier(max_depth = grid_search_DTC.best_params_['DTC__max_depth'], \n",
    "                                 splitter = grid_search_DTC.best_params_['DTC__splitter'], \n",
    "                                 criterion = grid_search_DTC.best_params_['DTC__criterion'])\n",
    "model_DTC.fit(X_train, Y_train)\n",
    "Y_DTC = model_DTC.predict(X_test)"
   ]
  },
  {
   "cell_type": "code",
   "execution_count": 73,
   "id": "dcc77932",
   "metadata": {},
   "outputs": [],
   "source": [
    "conf_mat_DTC = confusion_matrix(Y_test, Y_DTC)\n",
    "Error_I['DecisionTreeClassifier'] = Metrics (conf_mat_DTC)[1] / M\n",
    "Error_II['DecisionTreeClassifier'] = Metrics (conf_mat_DTC)[3] / M"
   ]
  },
  {
   "cell_type": "markdown",
   "id": "6957b43f",
   "metadata": {},
   "source": [
    "Случайный лес"
   ]
  },
  {
   "cell_type": "code",
   "execution_count": 74,
   "id": "43ae9fe6",
   "metadata": {},
   "outputs": [],
   "source": [
    "# Стандартизируем данные\n",
    "\n",
    "RFC = RandomForestClassifier()\n",
    "scaler = StandardScaler()\n",
    "\n",
    "steps_RFC = [('normalizer', scaler), ('RFC', RFC)]\n",
    "pipe_RFC = Pipeline(steps_RFC)"
   ]
  },
  {
   "cell_type": "code",
   "execution_count": 75,
   "id": "437a6f32",
   "metadata": {},
   "outputs": [
    {
     "data": {
      "text/plain": [
       "{'RFC__criterion': 'gini', 'RFC__n_estimators': 91}"
      ]
     },
     "execution_count": 75,
     "metadata": {},
     "output_type": "execute_result"
    }
   ],
   "source": [
    "#Подбираем гиперпараметры\n",
    "\n",
    "params_RFC = \\\n",
    "     {'RFC__n_estimators': np.arange(10, 100),\n",
    "     'RFC__criterion': ['gini', 'entropy']}\n",
    "grid_search_RFC = GridSearchCV(pipe_RFC, params_RFC)\n",
    "grid_search_RFC.fit(X_train, Y_train)\n",
    "grid_search_RFC.best_params_"
   ]
  },
  {
   "cell_type": "code",
   "execution_count": 76,
   "id": "594c598d",
   "metadata": {},
   "outputs": [],
   "source": [
    "# Обучаем модель с лучшими параметрами\n",
    "\n",
    "model_RFC = RandomForestClassifier(n_estimators = grid_search_RFC.best_params_['RFC__n_estimators'], \n",
    "                                 criterion = grid_search_RFC.best_params_['RFC__criterion'])\n",
    "model_RFC.fit(X_train, Y_train)\n",
    "Y_RFC = model_RFC.predict(X_test)"
   ]
  },
  {
   "cell_type": "code",
   "execution_count": 77,
   "id": "8d865834",
   "metadata": {},
   "outputs": [],
   "source": [
    "conf_mat_RFC = confusion_matrix(Y_test, Y_RFC)\n",
    "Error_I['RandomForestClassifier'] = Metrics (conf_mat_RFC)[1] / M\n",
    "Error_II['RandomForestClassifier'] = Metrics (conf_mat_RFC)[3] / M"
   ]
  },
  {
   "cell_type": "markdown",
   "id": "95c7fac6",
   "metadata": {},
   "source": [
    "Сравниваем значения ошибок первого и второго рода у различных моделей"
   ]
  },
  {
   "cell_type": "code",
   "execution_count": 78,
   "id": "60821ab6",
   "metadata": {},
   "outputs": [
    {
     "data": {
      "text/plain": [
       "{'LogisticRegression': 0.016666666666666666,\n",
       " 'KNeighborsClassifier': 0.015,\n",
       " 'DecisionTreeClassifier': 0.013333333333333334,\n",
       " 'RandomForestClassifier': 0.011666666666666667}"
      ]
     },
     "execution_count": 78,
     "metadata": {},
     "output_type": "execute_result"
    }
   ],
   "source": [
    "Error_II"
   ]
  },
  {
   "cell_type": "markdown",
   "id": "a1aca3e5",
   "metadata": {},
   "source": [
    "Ошибка II рода ни в одном случае не превышает 0,03"
   ]
  },
  {
   "cell_type": "code",
   "execution_count": 79,
   "id": "e32f6da4",
   "metadata": {},
   "outputs": [
    {
     "name": "stdout",
     "output_type": "stream",
     "text": [
      "Наименьшая ошибка первого рода: 0.011666666666666667 .  Модель: RandomForestClassifier\n"
     ]
    }
   ],
   "source": [
    "minim = 1\n",
    "\n",
    "for i, j in Error_I.items():\n",
    "    if j < minim:\n",
    "        minim = j\n",
    "        model_min = i\n",
    "print ('Наименьшая ошибка первого рода:', minim, '.  Модель:', model_min)\n"
   ]
  },
  {
   "cell_type": "code",
   "execution_count": 80,
   "id": "38c8d25f",
   "metadata": {},
   "outputs": [
    {
     "name": "stdout",
     "output_type": "stream",
     "text": [
      "              precision    recall  f1-score   support\n",
      "\n",
      "           0       0.99      1.00      0.99       447\n",
      "           1       0.99      0.97      0.98       153\n",
      "\n",
      "    accuracy                           0.99       600\n",
      "   macro avg       0.99      0.98      0.98       600\n",
      "weighted avg       0.99      0.99      0.99       600\n",
      "\n"
     ]
    }
   ],
   "source": [
    "report_RFC = classification_report(Y_test, Y_RFC)\n",
    "print(report_RFC)"
   ]
  }
 ],
 "metadata": {
  "kernelspec": {
   "display_name": "Python 3 (ipykernel)",
   "language": "python",
   "name": "python3"
  },
  "language_info": {
   "codemirror_mode": {
    "name": "ipython",
    "version": 3
   },
   "file_extension": ".py",
   "mimetype": "text/x-python",
   "name": "python",
   "nbconvert_exporter": "python",
   "pygments_lexer": "ipython3",
   "version": "3.8.10"
  }
 },
 "nbformat": 4,
 "nbformat_minor": 5
}
