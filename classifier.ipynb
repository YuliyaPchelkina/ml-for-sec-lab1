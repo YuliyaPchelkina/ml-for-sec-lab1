{
 "cells": [
  {
   "cell_type": "code",
   "execution_count": 10,
   "id": "ff5365d0",
   "metadata": {},
   "outputs": [],
   "source": [
    "import joblib\n",
    "import pandas as pd\n",
    "from sklearn.model_selection import train_test_split\n",
    "from sklearn.metrics import classification_report"
   ]
  },
  {
   "cell_type": "code",
   "execution_count": 16,
   "id": "cefd2a1f",
   "metadata": {},
   "outputs": [],
   "source": [
    "def classify(modelFileName, dataFileName):\n",
    "    X = df\n",
    "    X_train, X_test = train_test_split(X, test_size = 0.25, random_state = 21)\n",
    "    y_pred = modelFileName.predict(X_test)\n",
    "    return y_pred\n",
    "    "
   ]
  },
  {
   "cell_type": "code",
   "execution_count": 17,
   "id": "addb7c3a",
   "metadata": {},
   "outputs": [],
   "source": [
    "model = joblib.load('model_RFC.pkl')\n",
    "df = pd.read_csv('features_train.csv')\n",
    "cl = pd.read_csv('classes_train.csv')"
   ]
  },
  {
   "cell_type": "code",
   "execution_count": 19,
   "id": "9ebafff0",
   "metadata": {},
   "outputs": [],
   "source": [
    "Y_train, Y_test = train_test_split(cl, test_size = 0.25, random_state = 21)"
   ]
  },
  {
   "cell_type": "code",
   "execution_count": 20,
   "id": "ad8efeb3",
   "metadata": {},
   "outputs": [],
   "source": [
    "Y_pred = classify(model, df)"
   ]
  },
  {
   "cell_type": "code",
   "execution_count": 21,
   "id": "d49a3812",
   "metadata": {},
   "outputs": [
    {
     "name": "stdout",
     "output_type": "stream",
     "text": [
      "              precision    recall  f1-score   support\n",
      "\n",
      "           0       1.00      1.00      1.00       447\n",
      "           1       1.00      0.99      1.00       153\n",
      "\n",
      "    accuracy                           1.00       600\n",
      "   macro avg       1.00      1.00      1.00       600\n",
      "weighted avg       1.00      1.00      1.00       600\n",
      "\n"
     ]
    }
   ],
   "source": [
    "report = classification_report(Y_test, Y_pred)\n",
    "print(report)"
   ]
  }
 ],
 "metadata": {
  "kernelspec": {
   "display_name": "Python 3 (ipykernel)",
   "language": "python",
   "name": "python3"
  },
  "language_info": {
   "codemirror_mode": {
    "name": "ipython",
    "version": 3
   },
   "file_extension": ".py",
   "mimetype": "text/x-python",
   "name": "python",
   "nbconvert_exporter": "python",
   "pygments_lexer": "ipython3",
   "version": "3.8.10"
  }
 },
 "nbformat": 4,
 "nbformat_minor": 5
}
