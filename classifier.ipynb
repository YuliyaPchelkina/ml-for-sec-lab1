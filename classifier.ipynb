{
 "cells": [
  {
   "cell_type": "code",
   "execution_count": 34,
   "id": "ff5365d0",
   "metadata": {},
   "outputs": [],
   "source": [
    "import joblib\n",
    "import pandas as pd\n",
    "from sklearn.model_selection import train_test_split\n",
    "from sklearn.metrics import classification_report"
   ]
  },
  {
   "cell_type": "code",
   "execution_count": 35,
   "id": "cefd2a1f",
   "metadata": {},
   "outputs": [],
   "source": [
    "def classify(modelFileName, dataFileName):\n",
    "    model = joblib.load(modelFileName)\n",
    "    df = pd.read_csv(dataFileName)\n",
    "    \n",
    "    y_pred = model.predict(df)\n",
    "    \n",
    "    return y_pred.reshape((1, y_pred.size))    "
   ]
  },
  {
   "cell_type": "code",
   "execution_count": 36,
   "id": "addb7c3a",
   "metadata": {},
   "outputs": [],
   "source": [
    "model = 'model_RFC.pkl'\n",
    "data = 'features_train.csv'"
   ]
  },
  {
   "cell_type": "code",
   "execution_count": 37,
   "id": "0eb55289",
   "metadata": {},
   "outputs": [],
   "source": [
    "y_pred = classify(model, data)"
   ]
  },
  {
   "cell_type": "code",
   "execution_count": 38,
   "id": "b5e54943",
   "metadata": {},
   "outputs": [
    {
     "data": {
      "text/plain": [
       "array([[0, 0, 0, ..., 1, 1, 1]], dtype=int64)"
      ]
     },
     "execution_count": 38,
     "metadata": {},
     "output_type": "execute_result"
    }
   ],
   "source": [
    "y_pred"
   ]
  },
  {
   "cell_type": "code",
   "execution_count": 40,
   "id": "87e82949",
   "metadata": {},
   "outputs": [
    {
     "data": {
      "text/plain": [
       "(1, 2400)"
      ]
     },
     "execution_count": 40,
     "metadata": {},
     "output_type": "execute_result"
    }
   ],
   "source": [
    "y_pred.shape"
   ]
  }
 ],
 "metadata": {
  "kernelspec": {
   "display_name": "Python 3 (ipykernel)",
   "language": "python",
   "name": "python3"
  },
  "language_info": {
   "codemirror_mode": {
    "name": "ipython",
    "version": 3
   },
   "file_extension": ".py",
   "mimetype": "text/x-python",
   "name": "python",
   "nbconvert_exporter": "python",
   "pygments_lexer": "ipython3",
   "version": "3.8.10"
  }
 },
 "nbformat": 4,
 "nbformat_minor": 5
}
